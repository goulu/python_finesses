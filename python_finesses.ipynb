{
 "cells": [
  {
   "cell_type": "markdown",
   "metadata": {},
   "source": [
    "# Les Finesses de Python\n",
    "\n",
    "## Microclub 1er juin 2018\n",
    "\n",
    "## Philippe Guglielmetti\n",
    "\n",
    "---"
   ]
  },
  {
   "cell_type": "markdown",
   "metadata": {},
   "source": [
    "## Encore Python ???\n",
    "\n",
    "> Il ne vaut pas la peine de connaître un langage qui ne modifie pas votre façon de penser la programmation.\n",
    "> ([Alan Perlis](https://www.drgoulu.com/2008/01/21/perlisismes-les-dictons-informatiques-dalan-perlis/))\n",
    "\n",
    "* #4 au [TIOBE](https://www.tiobe.com/tiobe-index/) (nombre de développeurs)\n",
    "* #2 au [Madnight] (https://madnight.github.io/githut/#/issues/2018/1) (activité sur GitHub)\n",
    "* #1 au [PYPL](http://pypl.github.io/PYPL.html) PopularitY of Programming Language (nombre de tutoriels suivis)\n",
    "\n",
    "\n",
    "\n",
    ">Python est un langage de programmation objet, multi-paradigme ([wikipedia](https://fr.wikipedia.org/wiki/Python_(langage)))\n",
    "\n",
    "= on peut programmer :\n",
    "1. [comme une patate](http://entrian.com/goto/)\n",
    "2. comme on en a l’habitude (classes, objets, ...)\n",
    "3. comme on en a pas l’habitude\n",
    "4. comme ~~un dieu~~ [Guido van Rossum](https://fr.wikipedia.org/wiki/Guido_van_Rossum)\n",
    "\n",
    "Notamment, Python intègre ou facilite certains [patron de conception](https://fr.wikipedia.org/wiki/Patron_de_conception)\n",
    "\n",
    "\"Gang of four\" (GOF) Erich Gamma, Richard Helm, Ralph Johnson, John Vlissides \n",
    "“Design Patterns - Catalogue de modèles de conceptions réutilisables” \n",
    "Vuibert, 1999, 490 p \n",
    "\n",
    "----"
   ]
  },
  {
   "cell_type": "markdown",
   "metadata": {},
   "source": [
    "## Au menu ce soir :\n",
    "* [Objets et Types (Classes)¶](#objs)\n",
    "* [Iterateurs](#iter)\n",
    "* [Introspection](#intro)\n",
    "* [Les Décorateurs](#deco)\n",
    "  * [La Memoïsation](#memo)\n",
    "  * [Timeout](#stop)\n",
    "* [Intermède OEIS](#OEIS)\n",
    "    "
   ]
  },
  {
   "cell_type": "markdown",
   "metadata": {},
   "source": [
    "----\n",
    "mais commençons par importer quelques [librairies standard](https://docs.python.org/3/library/) et [\"maison\"](https://github.com/goulu/Goulib) utilisées dans la suite"
   ]
  },
  {
   "cell_type": "code",
   "execution_count": 1,
   "metadata": {},
   "outputs": [],
   "source": [
    "import logging\n",
    "import itertools\n",
    "import functools\n",
    "import operator\n",
    "\n",
    "from Goulib import itertools2, decorators"
   ]
  },
  {
   "cell_type": "markdown",
   "metadata": {},
   "source": [
    "<a id=\"objs\"></a>\n",
    "## Types et Objets (Classes) \n",
    "\n",
    "Python utilise un typage:\n",
    "* FORT : chaque variable désigne un objet dont le type est connu\n",
    "* DYNAMIQUE : mais une variable peut changer pour désigner un autre objet d'un autre type\n",
    "* PAS vérifié à la compilation (à moins que...)\n"
   ]
  },
  {
   "cell_type": "code",
   "execution_count": 2,
   "metadata": {},
   "outputs": [
    {
     "name": "stdout",
     "output_type": "stream",
     "text": [
      "256 <class 'int'>\n"
     ]
    }
   ],
   "source": [
    "a=256\n",
    "print(a,type(a)) # a désigne un OBJET de type (classe...) int"
   ]
  },
  {
   "cell_type": "code",
   "execution_count": 3,
   "metadata": {},
   "outputs": [
    {
     "name": "stdout",
     "output_type": "stream",
     "text": [
      "True True\n",
      "True False\n"
     ]
    }
   ],
   "source": [
    "print(255+1 == a, 255+1 is a) # == compare les valeurs, is compare les objets\n",
    "print(a+1 == 257, a+1 is 257) # une idée de ce qui se passe ???"
   ]
  },
  {
   "cell_type": "code",
   "execution_count": 4,
   "metadata": {},
   "outputs": [
    {
     "data": {
      "text/plain": [
       "'les entiers de -5 à 256 sont des objets prédéfinis en Python !'"
      ]
     },
     "execution_count": 4,
     "metadata": {},
     "output_type": "execute_result"
    }
   ],
   "source": [
    "langue_au_chat='! nohtyP ne sinifédérp stejbo sed tnos 652 à 5- ed sreitne sel'\n",
    "''.join(reversed(langue_au_chat))"
   ]
  },
  {
   "cell_type": "code",
   "execution_count": 5,
   "metadata": {},
   "outputs": [
    {
     "name": "stdout",
     "output_type": "stream",
     "text": [
      "a = 256 <class 'str'>\n"
     ]
    }
   ],
   "source": [
    "s=\"a = \"+str(a) # le str est obligatoire : pas de conversion implicite\n",
    "print(s,type(s))"
   ]
  },
  {
   "cell_type": "code",
   "execution_count": 6,
   "metadata": {},
   "outputs": [
    {
     "name": "stdout",
     "output_type": "stream",
     "text": [
      "256 <class 'str'>\n"
     ]
    }
   ],
   "source": [
    "a=str(a) # a ne change pas de type, il désigne un nouvel objet (nuance...)\n",
    "print(a,type(a))"
   ]
  },
  {
   "cell_type": "code",
   "execution_count": 7,
   "metadata": {},
   "outputs": [
    {
     "name": "stdout",
     "output_type": "stream",
     "text": [
      "<function fib at 0x00000275B134B950> <class 'function'>\n"
     ]
    }
   ],
   "source": [
    "def fib(n):\n",
    "    \"\"\"une très mauvaise implémentation de la suite de Fibonacci\"\"\"\n",
    "    if n < 1: return 0\n",
    "    if n < 2: return 1\n",
    "    return fib(n-1) + fib(n-2)\n",
    "\n",
    "print(fib,type(fib)) # les fonctions sont des objets aussi"
   ]
  },
  {
   "cell_type": "code",
   "execution_count": 8,
   "metadata": {},
   "outputs": [
    {
     "data": {
      "text/latex": [
       "$\\frac{{{2}{x}}+{1}}{2}$"
      ],
      "text/plain": [
       "'\\\\frac{{{2}{x}}+{1}}{2}'"
      ]
     },
     "execution_count": 8,
     "metadata": {},
     "output_type": "execute_result"
    }
   ],
   "source": [
    "class LateX (str): # on peut dériver une classe de n'importe quel type\n",
    "    \n",
    "    def __init__(self, s=''): # constructeur\n",
    "        self = str(s)     # utilise la méthode d'assignation de la classe str\n",
    "        \n",
    "    def _repr_latex_(self): # affichage dans Jupyter Notebook\n",
    "        return r'$%s$'%self\n",
    "    \n",
    "    # une méthode est juste un champ de type fonction \n",
    "    # les \"magic methods\" permettent de redéfinir les opérateurs\n",
    "    __add__=lambda self,right:LateX('{%s}+{%s}'%(self, right))  \n",
    "    __sub__=lambda self,right:LateX('{%s}-{%s}'%(self, right)) \n",
    "    __mul__=lambda self,right:LateX('{%s}{%s}'%(self, right))\n",
    "    __div__=lambda self,right:LateX('\\\\frac{%s}{%s}'%(self, right)) \n",
    "    __truediv__= __div__ # nécessaire pour / au lieu de //\n",
    "    \n",
    "(LateX(2)*'x'+1)/2"
   ]
  },
  {
   "cell_type": "code",
   "execution_count": 9,
   "metadata": {},
   "outputs": [
    {
     "data": {
      "text/latex": [
       "${\\pi}{{r}^{2}}$"
      ],
      "text/plain": [
       "'{\\\\pi}{{r}^{2}}'"
      ]
     },
     "execution_count": 9,
     "metadata": {},
     "output_type": "execute_result"
    }
   ],
   "source": [
    "# on peut ajouter/modifier dynamiquement des méthodes à une classe\n",
    "# puisque les méthodes sont aussi des objets !\n",
    "\n",
    "def puissance_en_latex(self,right): # self n'est pas un mot réservé\n",
    "    return LateX('{%s}^{%s}'%(self, right))\n",
    "    \n",
    "LateX.__pow__=puissance_en_latex\n",
    "\n",
    "LateX('\\\\pi')*LateX('r')**2"
   ]
  },
  {
   "cell_type": "markdown",
   "metadata": {},
   "source": [
    "Oui c'est TRES dangereux. Mais un principe de Python est \n",
    ">\"We are all consenting adults here.\""
   ]
  },
  {
   "cell_type": "markdown",
   "metadata": {},
   "source": [
    "----\n",
    "<a id=\"iter\"></a>\n",
    "## Iterateurs, générateurs, et programmation fonctionnelle\n",
    "L'itérateur est un patron de conception qui permet de parcourir tous les éléments contenus dans un autre objet, le plus souvent un conteneur (liste, arbre, etc). Un synonyme d'itérateur est curseur, notamment dans le contexte des bases de données."
   ]
  },
  {
   "cell_type": "code",
   "execution_count": 10,
   "metadata": {},
   "outputs": [
    {
     "name": "stdout",
     "output_type": "stream",
     "text": [
      "0 1 1 2 3 5 8 13 21 34 "
     ]
    }
   ],
   "source": [
    "for i in range(10):\n",
    "    print(fib(i), end=\" \")"
   ]
  },
  {
   "cell_type": "code",
   "execution_count": 11,
   "metadata": {},
   "outputs": [
    {
     "name": "stdout",
     "output_type": "stream",
     "text": [
      "range(0, 10) <class 'range'>\n"
     ]
    }
   ],
   "source": [
    "r=range(10)\n",
    "print(r,type(r))"
   ]
  },
  {
   "cell_type": "code",
   "execution_count": 12,
   "metadata": {},
   "outputs": [
    {
     "data": {
      "text/plain": [
       "[0, 1, 1, 2, 3, 5, 8, 13, 21, 34]"
      ]
     },
     "execution_count": 12,
     "metadata": {},
     "output_type": "execute_result"
    }
   ],
   "source": [
    "[fib(i) for i in r] # construction de liste par \"compréhension\""
   ]
  },
  {
   "cell_type": "code",
   "execution_count": 13,
   "metadata": {},
   "outputs": [
    {
     "name": "stdout",
     "output_type": "stream",
     "text": [
      "<map object at 0x00000275B1365438> <class 'map'>\n"
     ]
    }
   ],
   "source": [
    "res=map(fib,r)        # map applique une fonction à un itérable\n",
    "print(res,type(res))  # le résultat est un itérable"
   ]
  },
  {
   "cell_type": "code",
   "execution_count": 14,
   "metadata": {},
   "outputs": [
    {
     "data": {
      "text/plain": [
       "88"
      ]
     },
     "execution_count": 14,
     "metadata": {},
     "output_type": "execute_result"
    }
   ],
   "source": [
    "functools.reduce(operator.add,res) # reduce applique répétitivement une fonction à 2 paramètres (opérateur) à un itérable\n",
    "# sum(res) # aurait fait la même chose ..."
   ]
  },
  {
   "cell_type": "code",
   "execution_count": 15,
   "metadata": {},
   "outputs": [
    {
     "name": "stdout",
     "output_type": "stream",
     "text": [
      "1548 False\n",
      "[1, 2, 3] True\n",
      "<map object at 0x00000275B1365438> True\n",
      "<function fib at 0x00000275B134B950> False\n"
     ]
    }
   ],
   "source": [
    "for typ in [1548, [1,2,3], res, fib]:\n",
    "    print(typ, itertools2.isiterable(typ))"
   ]
  },
  {
   "cell_type": "code",
   "execution_count": 16,
   "metadata": {},
   "outputs": [
    {
     "name": "stdout",
     "output_type": "stream",
     "text": [
      "<generator object fibogen at 0x00000275B133EBA0> True\n"
     ]
    }
   ],
   "source": [
    "def fibogen():\n",
    "    logging.info('fibogen démarre...')\n",
    "    n2,n1=0,1\n",
    "    yield n2\n",
    "    yield n1\n",
    "    while True: # oui, une boucle infinie dans une fonction ...\n",
    "        n1,n2=n1+n2,n1 # quand même pratique...\n",
    "        yield n1\n",
    "        \n",
    "print(fibogen(), itertools2.isiterable(fibogen()))"
   ]
  },
  {
   "cell_type": "code",
   "execution_count": 17,
   "metadata": {},
   "outputs": [
    {
     "name": "stdout",
     "output_type": "stream",
     "text": [
      "0 1 1 2 3 5 8 13 21 34 "
     ]
    }
   ],
   "source": [
    "for i,n in enumerate(fibogen()):\n",
    "    print(n, end=\" \")\n",
    "    if i>=9: break\n",
    "    "
   ]
  },
  {
   "cell_type": "code",
   "execution_count": 18,
   "metadata": {},
   "outputs": [
    {
     "name": "stdout",
     "output_type": "stream",
     "text": [
      "<itertools.islice object at 0x00000275B1378CC8> <class 'itertools.islice'>\n"
     ]
    }
   ],
   "source": [
    "res=itertools.islice(fibogen(),10)\n",
    "print(res,type(res))  # le résultat est encore un itérable"
   ]
  },
  {
   "cell_type": "code",
   "execution_count": 19,
   "metadata": {},
   "outputs": [
    {
     "data": {
      "text/plain": [
       "[0, 1, 1, 2, 3, 5, 8, 13, 21, 34]"
      ]
     },
     "execution_count": 19,
     "metadata": {},
     "output_type": "execute_result"
    }
   ],
   "source": [
    "list(res)"
   ]
  },
  {
   "cell_type": "code",
   "execution_count": 20,
   "metadata": {},
   "outputs": [
    {
     "data": {
      "text/plain": [
       "[]"
      ]
     },
     "execution_count": 20,
     "metadata": {},
     "output_type": "execute_result"
    }
   ],
   "source": [
    "list(res) # mais attention ! un iterateur ne peut être \"consommé\" qu'une fois"
   ]
  },
  {
   "cell_type": "code",
   "execution_count": 21,
   "metadata": {},
   "outputs": [
    {
     "name": "stdout",
     "output_type": "stream",
     "text": [
      "<__main__.Fib object at 0x00000275B137E668> True\n"
     ]
    }
   ],
   "source": [
    "class Fib:\n",
    "    '''Fibonacci avec classe !'''\n",
    "    def __iter__(self):\n",
    "        logging.info('Fib.__iter__')\n",
    "        self.n2, self.n1 = 0,1\n",
    "        return self\n",
    "    def __next__(self):\n",
    "        logging.info('Fib.__next__')\n",
    "        fib = self.n2\n",
    "        self.n2, self.n1 = self.n1, self.n1 + self.n2\n",
    "        return fib\n",
    "    \n",
    "print(Fib(), itertools2.isiterable(Fib())) # une classe contenant __iter__ (et __next__) est itérable !"
   ]
  },
  {
   "cell_type": "code",
   "execution_count": 22,
   "metadata": {},
   "outputs": [
    {
     "data": {
      "text/plain": [
       "[0, 1, 1, 2, 3, 5, 8, 13, 21, 34]"
      ]
     },
     "execution_count": 22,
     "metadata": {},
     "output_type": "execute_result"
    }
   ],
   "source": [
    "list(itertools.islice(Fib(),10))"
   ]
  },
  {
   "cell_type": "markdown",
   "metadata": {},
   "source": [
    "----\n",
    "<a id=\"intro\"></a>\n",
    "## Introspection\n",
    "Les champs+méthodes des objets peuvent être examinés.\n",
    "Et comme tout est objet ..."
   ]
  },
  {
   "cell_type": "code",
   "execution_count": 23,
   "metadata": {},
   "outputs": [
    {
     "name": "stdout",
     "output_type": "stream",
     "text": [
      "['__add__', '__class__', '__contains__', '__delattr__', '__dict__', '__dir__', '__div__', '__doc__', '__eq__', '__format__', '__ge__', '__getattribute__', '__getitem__', '__getnewargs__', '__gt__', '__hash__', '__init__', '__init_subclass__', '__iter__', '__le__', '__len__', '__lt__', '__mod__', '__module__', '__mul__', '__ne__', '__new__', '__pow__', '__reduce__', '__reduce_ex__', '__repr__', '__rmod__', '__rmul__', '__setattr__', '__sizeof__', '__str__', '__sub__', '__subclasshook__', '__truediv__', '__weakref__', '_repr_latex_', 'capitalize', 'casefold', 'center', 'count', 'encode', 'endswith', 'expandtabs', 'find', 'format', 'format_map', 'index', 'isalnum', 'isalpha', 'isdecimal', 'isdigit', 'isidentifier', 'islower', 'isnumeric', 'isprintable', 'isspace', 'istitle', 'isupper', 'join', 'ljust', 'lower', 'lstrip', 'maketrans', 'partition', 'replace', 'rfind', 'rindex', 'rjust', 'rpartition', 'rsplit', 'rstrip', 'split', 'splitlines', 'startswith', 'strip', 'swapcase', 'title', 'translate', 'upper', 'zfill']\n"
     ]
    }
   ],
   "source": [
    "print(dir(LateX)) # tous les membres de la classe (beaucoup sont hérités de str)"
   ]
  },
  {
   "cell_type": "code",
   "execution_count": 24,
   "metadata": {},
   "outputs": [
    {
     "name": "stdout",
     "output_type": "stream",
     "text": [
      "['__bool__', '__class__', '__delattr__', '__dir__', '__doc__', '__eq__', '__format__', '__ge__', '__getattribute__', '__gt__', '__hash__', '__init__', '__init_subclass__', '__le__', '__lt__', '__ne__', '__new__', '__reduce__', '__reduce_ex__', '__repr__', '__setattr__', '__sizeof__', '__str__', '__subclasshook__']\n"
     ]
    }
   ],
   "source": [
    "print(dir(None)) # membres de l'objet None ?"
   ]
  },
  {
   "cell_type": "code",
   "execution_count": 25,
   "metadata": {},
   "outputs": [
    {
     "name": "stdout",
     "output_type": "stream",
     "text": [
      "['__annotations__', '__call__', '__class__', '__closure__', '__code__', '__defaults__', '__delattr__', '__dict__', '__dir__', '__doc__', '__eq__', '__format__', '__ge__', '__get__', '__getattribute__', '__globals__', '__gt__', '__hash__', '__init__', '__init_subclass__', '__kwdefaults__', '__le__', '__lt__', '__module__', '__name__', '__ne__', '__new__', '__qualname__', '__reduce__', '__reduce_ex__', '__repr__', '__setattr__', '__sizeof__', '__str__', '__subclasshook__']\n"
     ]
    }
   ],
   "source": [
    "def f(n):\n",
    "    \"\"\"factorielle récursive\"\"\"\n",
    "    return 1 if n<2 else n*f(n-1)\n",
    "\n",
    "print(dir(f)) # membres de l'objet fonction"
   ]
  },
  {
   "cell_type": "code",
   "execution_count": 26,
   "metadata": {},
   "outputs": [
    {
     "data": {
      "text/plain": [
       "'factorielle récursive'"
      ]
     },
     "execution_count": 26,
     "metadata": {},
     "output_type": "execute_result"
    }
   ],
   "source": [
    "f.__doc__ # pratique pour écrire des générateurs de doc ..."
   ]
  },
  {
   "cell_type": "code",
   "execution_count": 27,
   "metadata": {},
   "outputs": [
    {
     "data": {
      "text/plain": [
       "(['def f(n):\\n',\n",
       "  '    \"\"\"factorielle récursive\"\"\"\\n',\n",
       "  '    return 1 if n<2 else n*f(n-1)\\n'],\n",
       " 1)"
      ]
     },
     "execution_count": 27,
     "metadata": {},
     "output_type": "execute_result"
    }
   ],
   "source": [
    "import inspect # https://docs.python.org/3/library/inspect.html\n",
    "inspect.getsourcelines(f)"
   ]
  },
  {
   "cell_type": "code",
   "execution_count": 28,
   "metadata": {},
   "outputs": [
    {
     "data": {
      "text/plain": [
       "<code object f at 0x00000275B1349C00, file \"<ipython-input-25-9e557574ada0>\", line 1>"
      ]
     },
     "execution_count": 28,
     "metadata": {},
     "output_type": "execute_result"
    }
   ],
   "source": [
    "f.__code__ # intéressant ... on y reviendra !"
   ]
  },
  {
   "cell_type": "code",
   "execution_count": 29,
   "metadata": {},
   "outputs": [
    {
     "name": "stdout",
     "output_type": "stream",
     "text": [
      "__loader__()= <_frozen_importlib.BuiltinImporter object at 0x00000275B137EEB8>\n",
      "acos(1)= 0.0\n",
      "acosh(1)= 0.0\n",
      "asin(1)= 1.5707963267948966\n",
      "asinh(1)= 0.8813735870195429\n",
      "atan(1)= 0.7853981633974483\n",
      "atan2(1,2)= 0.4636476090008061\n",
      "atanh(???)\n",
      "ceil(1)= 1\n",
      "copysign(1,2)= 1.0\n",
      "cos(1)= 0.5403023058681398\n",
      "cosh(1)= 1.5430806348152437\n",
      "degrees(1)= 57.29577951308232\n",
      "erf(1)= 0.842700792949715\n",
      "erfc(1)= 0.157299207050285\n",
      "exp(1)= 2.718281828459045\n",
      "expm1(1)= 1.718281828459045\n",
      "fabs(1)= 1.0\n",
      "factorial(1)= 1\n",
      "floor(1)= 1\n",
      "fmod(1,2)= 1.0\n",
      "frexp(1)= (0.5, 1)\n",
      "fsum(???)\n",
      "gamma(1)= 1.0\n",
      "gcd(1,2)= 1\n",
      "hypot(1,2)= 2.23606797749979\n",
      "isclose(1,2)= False\n",
      "isfinite(1)= True\n",
      "isinf(1)= False\n",
      "isnan(1)= False\n",
      "ldexp(1,2)= 4.0\n",
      "lgamma(1)= 0.0\n",
      "log(1)= 0.0\n",
      "log1p(1)= 0.6931471805599453\n",
      "log10(1)= 0.0\n",
      "log2(1)= 0.0\n",
      "modf(1)= (0.0, 1.0)\n",
      "pow(1,2)= 1.0\n",
      "radians(1)= 0.017453292519943295\n",
      "sin(1)= 0.8414709848078965\n",
      "sinh(1)= 1.1752011936438014\n",
      "sqrt(1)= 1.0\n",
      "tan(1)= 1.5574077246549023\n",
      "tanh(1)= 0.7615941559557649\n",
      "trunc(1)= 1\n"
     ]
    }
   ],
   "source": [
    "import math # un module est aussi un objet !\n",
    "\n",
    "for name in math.__dict__: # traverse le dictionnaire de tout ce qui est défini dans le module\n",
    "    f=math.__dict__[name]\n",
    "    if callable(f):       # si l'objet a une méthode __call__, on peut l'appeler\n",
    "        try:\n",
    "            try:\n",
    "                print(name+'()=',f())\n",
    "                continue\n",
    "            except TypeError:\n",
    "                pass\n",
    "            try:\n",
    "                print(name+'(1)=',f(1))\n",
    "                continue\n",
    "            except TypeError:\n",
    "                pass\n",
    "            print(name+'(1,2)=',f(1,2))\n",
    "        except:\n",
    "            print(name+'(???)')"
   ]
  },
  {
   "cell_type": "markdown",
   "metadata": {},
   "source": [
    "<a id=\"deco\"></a>\n",
    "## Les Décorateurs\n",
    "\n",
    "\n",
    "Un décorateur est une fonction qui modifie une fonction en l'enveloppant.\n",
    "C'est un [patron de conception](https://fr.wikipedia.org/wiki/Patron_de_conception)\n",
    "\n",
    "\"Gang of four\" (GOF) Erich Gamma, Richard Helm, Ralph Johnson, John Vlissides \n",
    "“Design Patterns - Catalogue de modèles de conceptions réutilisables” \n",
    "Vuibert, 1999, 490 p "
   ]
  },
  {
   "cell_type": "markdown",
   "metadata": {},
   "source": [
    "<a id=\"debug\"></a>\n",
    "### Gestion du niveau de log pour debug"
   ]
  },
  {
   "cell_type": "code",
   "execution_count": 30,
   "metadata": {},
   "outputs": [
    {
     "name": "stderr",
     "output_type": "stream",
     "text": [
      "ERROR:root:un message d'erreur s'affiche\n",
      "WARNING:root:un message d'avertissement s'affiche\n",
      "INFO:root:un message d'info s'affiche\n"
     ]
    }
   ],
   "source": [
    "import logging # librairie standard pour loguer\n",
    "\n",
    "logger = logging.getLogger()\n",
    "logger.setLevel(logging.INFO)\n",
    "\n",
    "logging.error(\"un message d'erreur s'affiche\")\n",
    "logging.warning(\"un message d'avertissement s'affiche\")\n",
    "logging.info(\"un message d'info s'affiche\")\n",
    "logging.debug(\"mais un message de debug est inférieur au level INFO\")"
   ]
  },
  {
   "cell_type": "code",
   "execution_count": 31,
   "metadata": {},
   "outputs": [
    {
     "name": "stderr",
     "output_type": "stream",
     "text": [
      "INFO:root:fonction\n"
     ]
    }
   ],
   "source": [
    "def fonction():\n",
    "    \"\"\"cette fonction logue:\n",
    "    * son propre nom en INFO\n",
    "    * et sa doc en DEBUG\n",
    "    \"\"\"\n",
    "    logging.info(fonction.__name__)\n",
    "    def logdoc(doc):\n",
    "        for s in doc.split('\\n'):\n",
    "            logging.debug(s)\n",
    "    logdoc(fonction.__doc__)\n",
    "       \n",
    "fonction() # ne logue que le nom puisqu'on est au level INFO"
   ]
  },
  {
   "cell_type": "code",
   "execution_count": 32,
   "metadata": {},
   "outputs": [
    {
     "name": "stderr",
     "output_type": "stream",
     "text": [
      "INFO:root:Entering fonction\n",
      "DEBUG:root:fonction\n",
      "DEBUG:root:cette fonction logue:\n",
      "DEBUG:root:    * son propre nom\n",
      "DEBUG:root:    * et sa doc\n",
      "DEBUG:root:    \n",
      "INFO:root:Exiting fonction\n"
     ]
    }
   ],
   "source": [
    "@decorators.debug # passe en level DEBUG et ajoute des INFO à l'entrée et à la sortie\n",
    "def fonction():\n",
    "    \"\"\"cette fonction logue:\n",
    "    * son propre nom\n",
    "    * et sa doc\n",
    "    \"\"\"\n",
    "    logging.debug(fonction.__name__)\n",
    "    def logdoc(doc):\n",
    "        for s in doc.split('\\n'):\n",
    "            logging.debug(s)\n",
    "    logdoc(fonction.__doc__)\n",
    "    \n",
    "fonction()"
   ]
  },
  {
   "cell_type": "code",
   "execution_count": 33,
   "metadata": {},
   "outputs": [
    {
     "name": "stderr",
     "output_type": "stream",
     "text": [
      "INFO:root:Entering fonction\n",
      "DEBUG:root:fonction\n",
      "INFO:root:Exiting fonction\n"
     ]
    }
   ],
   "source": [
    "@decorators.debug # passe en level DEBUG et ajoute des INFO à l'entrée et à la sortie\n",
    "def fonction():\n",
    "    \"\"\"cette fonction logue:\n",
    "    * son propre nom\n",
    "    * et sa doc\n",
    "    \"\"\"\n",
    "    logging.debug(fonction.__name__)\n",
    "    @decorators.nodebug # revenir en INFO pour réduire la taille du log\n",
    "    def logdoc(doc):\n",
    "        for s in doc.split('\\n'):\n",
    "            logging.debug(s)\n",
    "    logdoc(fonction.__doc__)\n",
    "    \n",
    "fonction()"
   ]
  },
  {
   "cell_type": "markdown",
   "metadata": {},
   "source": [
    "<a id=\"timeit\"></a>\n",
    "### Timeit\n",
    "\n",
    "écrivons un décorateur pour chronométrer une fonction"
   ]
  },
  {
   "cell_type": "code",
   "execution_count": 34,
   "metadata": {},
   "outputs": [],
   "source": [
    "import functools # librairie standard\n",
    "\n",
    "def timeit(func):\n",
    "    @functools.wraps(func) # un décorateur qui simplifie l'écriture de décorateurs...\n",
    "    def wrapper(*args, **kwds):\n",
    "        import time\n",
    "        t=time.time()\n",
    "        f_result = func(*args, **kwds)\n",
    "        t=time.time()-t\n",
    "        params=', '.join(map(repr,args))\n",
    "        logger.info('%s(%s) took %f seconds'%(func.__name__,params,t)) \n",
    "        return f_result\n",
    "    return wrapper"
   ]
  },
  {
   "cell_type": "code",
   "execution_count": 35,
   "metadata": {},
   "outputs": [
    {
     "name": "stderr",
     "output_type": "stream",
     "text": [
      "INFO:root:tfib(0) took 0.000000 seconds\n",
      "INFO:root:tfib(5) took 0.000000 seconds\n",
      "INFO:root:tfib(10) took 0.000000 seconds\n",
      "INFO:root:tfib(15) took 0.001000 seconds\n",
      "INFO:root:tfib(20) took 0.002000 seconds\n",
      "INFO:root:tfib(25) took 0.025023 seconds\n",
      "INFO:root:tfib(30) took 0.274055 seconds\n",
      "INFO:root:tfib(35) took 2.877746 seconds\n"
     ]
    },
    {
     "data": {
      "text/plain": [
       "[1, 8, 89, 987, 10946, 121393, 1346269, 14930352]"
      ]
     },
     "execution_count": 35,
     "metadata": {},
     "output_type": "execute_result"
    }
   ],
   "source": [
    "def fib(n):\n",
    "    \"\"\"une très mauvaise implémentation de la suite de Fibonacci\"\"\"\n",
    "    if n < 2:\n",
    "      return 1\n",
    "    return fib(n-1) + fib(n-2)\n",
    "\n",
    "@timeit\n",
    "def tfib(n): return fib(n)\n",
    "\n",
    "[tfib(i) for i in range(0,40,5)]"
   ]
  },
  {
   "cell_type": "markdown",
   "metadata": {},
   "source": [
    "<a id=\"memo\"></a>\n",
    "### La [Memoïsation](https://fr.wikipedia.org/wiki/M%C3%A9mo%C3%AFsation)\n",
    "\n",
    "Patron de conception qui accélère les appels répétés à une fonction en mémorisant les résultats en fonction des paramètres"
   ]
  },
  {
   "cell_type": "code",
   "execution_count": 36,
   "metadata": {},
   "outputs": [],
   "source": [
    "def memoize(obj): # disponible dans Goulib.decorators\n",
    "    cache = obj.cache = {} # simple dict. il existe des implémentations à mémoire limitée\n",
    "    @functools.wraps(obj)\n",
    "    def memoizer(*args, **kwargs):\n",
    "        key = str(args) + str(kwargs)\n",
    "        if key not in cache:\n",
    "            cache[key] = obj(*args, **kwargs)\n",
    "        return cache[key]\n",
    "    return memoizer"
   ]
  },
  {
   "cell_type": "code",
   "execution_count": 37,
   "metadata": {},
   "outputs": [
    {
     "name": "stderr",
     "output_type": "stream",
     "text": [
      "INFO:root:tfib(0) took 0.000000 seconds\n",
      "INFO:root:tfib(5) took 0.000000 seconds\n",
      "INFO:root:tfib(10) took 0.000000 seconds\n",
      "INFO:root:tfib(15) took 0.000000 seconds\n",
      "INFO:root:tfib(20) took 0.000000 seconds\n",
      "INFO:root:tfib(25) took 0.000000 seconds\n",
      "INFO:root:tfib(30) took 0.000000 seconds\n",
      "INFO:root:tfib(35) took 0.000000 seconds\n"
     ]
    },
    {
     "data": {
      "text/plain": [
       "[1, 8, 89, 987, 10946, 121393, 1346269, 14930352]"
      ]
     },
     "execution_count": 37,
     "metadata": {},
     "output_type": "execute_result"
    }
   ],
   "source": [
    "@memoize\n",
    "def mfib(n):\n",
    "    \"\"\"la même très mauvaise implémentation de la suite de Fibonacci\"\"\"\n",
    "    if n < 2:\n",
    "      return 1\n",
    "    return mfib(n-1) + mfib(n-2)\n",
    "\n",
    "@timeit\n",
    "def tfib(n): return mfib(n)\n",
    "\n",
    "[tfib(i) for i in range(0,40,5)]"
   ]
  },
  {
   "cell_type": "code",
   "execution_count": 38,
   "metadata": {},
   "outputs": [
    {
     "name": "stderr",
     "output_type": "stream",
     "text": [
      "INFO:root:tfib(500) took 0.003001 seconds\n"
     ]
    },
    {
     "data": {
      "text/plain": [
       "225591516161936330872512695036072072046011324913758190588638866418474627738686883405015987052796968498626"
      ]
     },
     "execution_count": 38,
     "metadata": {},
     "output_type": "execute_result"
    }
   ],
   "source": [
    "tfib(500)"
   ]
  },
  {
   "cell_type": "markdown",
   "metadata": {},
   "source": [
    "<a id=\"stop\"></a>\n",
    "### Le Timeout"
   ]
  },
  {
   "cell_type": "code",
   "execution_count": 39,
   "metadata": {},
   "outputs": [
    {
     "name": "stdout",
     "output_type": "stream",
     "text": [
      "en 3 secondes, on peut calculer 34 termes\n",
      "le dernier est 5702887\n"
     ]
    }
   ],
   "source": [
    "t=3\n",
    "i,n = 0,0\n",
    "@decorators.timeout(t) # implémentation interrompant la thread\n",
    "def fibloop():\n",
    "    global i,n\n",
    "    while True: # boucle infinie sans le décorateur ...\n",
    "        i=i+1\n",
    "        n=fib(i)\n",
    "        \n",
    "try:\n",
    "    fibloop()\n",
    "except decorators.TimeoutError:\n",
    "    print('en %d secondes, on peut calculer %d termes'%(t,i))\n",
    "    print('le dernier est',n)"
   ]
  },
  {
   "cell_type": "code",
   "execution_count": 40,
   "metadata": {},
   "outputs": [
    {
     "name": "stdout",
     "output_type": "stream",
     "text": [
      "en 3 secondes, on peut calculer 203758 termes\n",
      "le dernier est 5795683933090061242272244439251195524473897944575658479909055449529571603058018473553335585736011749414910732719871348480948772026053777570475290611891499191726538858856820638388761092431274821843636346164716742634286791967165112789118769435443913186889422780954560932058118337063096012376974520489842355846690886731058518670659371429072137091292860042442324934693531351678734912778651146023490211997981528100492478371343553875759737982049724373875715104132442509262843850597157407477459988399754759163850696310974442535626743403430863077032549509234746562096536824685396503150276984880836021733538277431564073934867074651974344172952131414575766189369437899748024305708038264853817380881346179634879491643635623457302101884079979426309177723401550207846760173435943542765474913427107694329141064905932349227570931947080364195069945601670967921792084055212789626198348728643493088145019346353248620824810741673274988023144662021628298257383838587843623967752991856168156597097160379968422781110932738222099551307185480540437947554563934517391749925517860905996714435179857913282087155260444486082432358276047854865866214791080649108354301359073351618966497080554326477028612907660118861223817329664272082199655394633185447714115866831763261695031432801081865218326700193596508617865227138329804787552110324175005847201360094723452452659982470084268598412606538423234677739029844285497296924605722227260527503995471807605109592731062890033910242018141016296409007373202002171608592654497383444029251801403660479786761266554401319842761153620334182859734021410951901872054553705165027301293051613835651117712901374297969816264043554234607409586759592833161208436832348657026833785920370543411041540540523823301019916471935558257412365221594085794742600818005388641192814217995599362982650570152855554544374399378602185319395673419756960104090313146658705936807216109910889644125351636826589179301720907372771136822031775988495325739514215948252390641053181840505024115189131003791090601316034286422225081665015909203936462722502627411255855845873239682702062882569410532441784179695095149035643659354602061390163648032373713337564369629220710145586511021247777852393564522617559068699342699068222079723078894942406745526384866630375244066147267751016035569994420083845057685968793779285686755646648933148661455341185582897618284825316578031890379172005199975431625378901148288081410103262491976041895388042085881343573680470951438181841353267289188118655250551003964002085035331552655188226802205055607033437737953736806853900367420689003355041406406578633382774339634898311167241775833811918605089148915655865303974348345245402363745288497422534743331253978357635997825045412945211820760297785001598181622303860058606980022687157645616319857659315205324465831991885254641175603267026995839007003686691870198846832688182578366172346846408117001718385241591096977379590397619546638749935697361750046006930657414550995431593942405495881777057369822724929180154286647366828002886577613486604056659004493165703723275976816253217461529529114330993930819052123843236385074994178319737749536724835838693902711745404888720099890277928897256673906895625772347607273624524404783550943141925215410376834717065455002690712059147320071005931864657770206447051303952642468283308538593362078125876393952238651416712106313142294669473685410121761786968412922223443934005363625161784661955994564406121850675373523490332579439871597517068089063207269328394898688467434993665395559113859565187702934595869476477608212753098063556726710927453467659119659523009302673683415741587154423697570848175372154981172513284103775653604421193638362783666617278659113770078091838774561851517277870616467725865362300652229367798677649566344858391798349165567904665387622064848969859606023616056232039562401348072424199315567362628836545881756245992104849278306932769861662495755585701122530597756031640337880774334456353313085439669411264461234543751054032391174395072208506545677523564966983984155324949623146261345156074201294307873011668369198716582551756813308710478898665549222224868496019662098871837478985149521434333610208957233544932729583132549774176126864819411479095691132332142091775801227422525722723290154127437458227627337768286425714089025276123989946422335599697727976272024128413424153516239531690277603545083829677596014621780153980959077844879520575853312863428756432676377398156109149711398545436975285700677944123036832715922690095453207343758529477593265710557193864210038170947371906532901034615893966845168429240629767042128369030951626726497489959084604050561289873946057605272570036329218628462526478734152259565009368687551467383261156171153205960932785727269603589788384218752997461138854042932388685252764748542854629952905204035866473650171046486734562230981459726608183065325503009075580568174402860697834599895609394929354983644648929085923217392371213730670931072287336867146947209870344687137491190304991484797521773293034944958186268631849297926230904101573777379923483007834907889298681691452116226715148021708017366148839329557053238266832522223967164999993392023039617143388961059434754396341495319490923576660196487579491425567303826672361301276262751899798682250190644775121204920866285941358718654559886886844662553309198392735290631642619569533617590108070125727510021401781111010977999717196628599665392842491241861931330472118820060641064669306320842008946647999596511517662514087510752815608229140103987267716078143293844960861474835951768510821832237911863377716512450991287835032297593182101553102406055832265673353264334669496538203280179184757552255137339679262179994909884525559360029922564789494878946053347220992957035108297250962468983623722360496283183239248951236706383135160427208303965358587333655140441150630257204931127107795252170555260475010248215299860710467466727738891140384640333162295610420976450720369535489850114462992659996209406594830761762545442429462710455131703331881257033327224766679871291816142293865373763201104788116961133299403201391278833833927921493174063784073304740074846603638524788406936814773552183051318160398990765306131913973119828731065776010549051326113870195211750578952857686428435030547263383917110629199211367252966820450384050768996438671414530875379384309738125514637341394608403588762101850682130381697995583089542203536658936215298974881169432861656391683018049802581846219428472373674795339170904988924472847124341132124829170045914708321792359744437348735465687049788213920737221798550569487733209992400301380327317649601345962420422082025163901236627811034390994272097062471048279886874690713328621095495967347002082714505946787032052580412655131115331179679398884208901581070305676748561293602323354032609577703644072205201888259947809965115301460798493393864256046389029953238626997619510980355875440606025494591557197339633468020142807853425268724771151281443171111053698046683441169239221099638505868885941946957487480264644182307245397210193139521805254759174620776954699672833731859554450606330608146420874911204570117598693120104955224898135123819316311857676634812039998405798552914343091144220815607967364178296466649420160784547176595167041210344488112448128832164888870679856954566711389819008649688388133518522134789739309166394379263121863866202980037752043217871158104089956887987912045387445731534784582673097717128742243518276678368709860123520816650833783203118738455035317432143292509893206181822193270372267708899916071093818048130750584302714570931253115500602802908901646017197075120218785516594353952814956588779969725949730790279659771472184641160005650337815221432205995738032866142096855136009865014317066441044730274837752477275854583659033442297215464049244420933360243120589073198336022131643588029277279597726713551379522106046709363602307978412966756676712881925093086982641602644598614162148776371958192409213474517118123013963250695086148047429006773874786991198453228097922411689013846429721531301631270228491691480844538464087407106436373590356104840962596687372428958055606940662908478918976803822460676670236149252166210998498021307431201515904060645671003341513742615250428665503052144315505861613419805453144474944940666262219222182454281253729365826606041180170715990687367402980645776427177478795626339703348597273950334669730220067498174584130025746604618358889071498013280190193424205095097187127582461287653055037999018837172363321119506604125924671381862253277864456658193227644296043805905932531314923870682320023362122604896611754665825446611453867591710434008938549701528265011194071393411557398541298564067723774296713551686610975349400350116123942196371296463123699686231690281724318764748432344787784825510935421977469200154323468788175752962057563100283424813112728548648109003696342974043297614510399855266344712658219801556299791170763037369454148954058048352792697217716461267306637938902898623709692670031821669653004050471590615549050470363204201242797050884929352502998302896420286973775531291558737672782345149188239281867325681005147757720807690373602704674042329199366417617191047527673779080723322259731125434914209340989898659163338067856155719946592830454889943951569987888254652550923037561072018458772870286244094557340083544913204004430790075326847722915823067030045401956037052963507194055779042881814619694532250317176425943650101201486175029455676239596670247744322881912049671928625602593814264487853912568443293567865662313139448244430083536235763519417393647592997729158985289925932488293458073274559614721039900107341650363667319971823123358123436119137008320455287108150841947495304974224142370915725922015931444408027118760078044480522091035336617358060455731153380523631122864673555793521974609529468858357045693015088254864767295619647513541657865028057475443047767948770561864952536507654147111421861553851725790222946702498497786063013767213397731972298751159437537966723030232020528640297707622787563701012582950103345213777612767682912279344769720678961871270511844692700765200571035629928167918072152204906730694197830979579907166263496733960511376318269463996415161491485350458357848737017583052441837395846091677427225191423878905200102332651939936292842516463179983910143628791158053603281012478305523810202298196201178766497509661023596005462401587928465559342705245600438005939449477134006773755937682105267719185632044332090293197036811139795622636497730462671123625008252034993892940759980617334078973039038514081946729016606831528585423852254359180795866911472066815145111688352894116044225907475066259463582038984999622256959386830402608808139752107821584856401777835169827031559953667195000859397556872558751417773632302453936304101615804260512952588977199539517102139477166049793827037044979901236489088764317102502224193687709668903533882424252567425300971730931773622899022230124064272365050386224076803810109590208823742860495868909007913150594387579608667613643712492017512047050187942053483041193836681000213989198974291546503938815917311137042330419310532024165793781525663061801506290177787949790867020944656798445348819042863644294383869120369080970523082150056825572490579121517036560382744352090896683012480584704852347981073639959663685683535281025061031346861308107721687692241590431597908678327889637941314638919024021651128567782110636710185569978043020796428310949217810618495970440143541142649412253764262659983614268681045949978051927337048721080947062241985954237439165159806727911552107319532236338293630180536315212136650955209110447024307641863252431965703251181588863186184208620055524447739864256715147446992586192051085136638065424449715767560529034227111807915688365476062004181747269703626532860651046046788769565942309049693523398636548902770885329217260805552936632985778192876668758991736148950604145555144930921773505899096337491945251043515576463592885468506058502049543401702161304195474066534944193743806333110081714668303165906294259598629574536135430060361756572450111182836547985906690028185154956958474963653339074265202659299487545171772248126875121214952657187546536207344206609392673102453865892599369110179195540886885710834908709039776189364667844945313675727349548362849535769605029045575565226668954796837329685615702146324888412676846215915844902687076299847117988451023700016339730939721185193300358035385871301235135311080995511311901219054283343239512664279870751315495606437019291024859353829738905342522339679420378364745989397394326563597216382899346414971349150118826733435901834515434069736298424555407522191058637185568576603179823806374786162815953222725801541144332183830026564121644128314224786773373496387969437314974441128102159868080869432916682266967659238503667442019450761544271115169240256635670525666167224265986382387713291047741063343744912741605243997212782061226459861824726390000493620774967048496931004914276896935801750528892790705803497508350863048356928921919464219738255800997781819587879017693839433702541514474836131890530242195049229697107644353899451074045719119702081061884568686121552788408015539539232523089224158893157839040171218823476417310267173279721438649944405233363774717736426487325737036380841271396606851290096014961617039730990750772378653242158687148596118022793053039092785720074197657574758285274228552598325854698457927373852848681181855912436360869329007183759980145427419935484943212368606626566421250453440928673160701124856002609324740678900385333762851459859022294391758529884342564258823188214716746054604070791620104225682725470815449678630840102141605149311795774247694677191109101567641452763196597852291541750899866850687781834375414720603446670201463212910416458600249772414368697736886796172173657974424740856050720055235123151872185436348022133997660062522408922083521649363544777915526078514199768359698471469461425298593157750991201411798870065395636436881509219124641791117582928865007333219272476828226001517979707630565800117366506052092597789985104858296125095040567159602370282751897597635980620325395093991817087827255488435325914658514279310360054849660101915419972814462712627314438136734311873835009233904831206486646019787943522203812160593988483576539844693311578896516730281232378192983271677830098031213091157794759416711068848552182117507503022234304461795874765039317292514619405084531243732576719725927672884279676885898712102349584087169791272835946458008469308320154783123320038756261278926431443922037645233432952004228844801347172050966403763390530021112848188306647597791465990717143448924502492887769246901653975648574822993062408722997598738532863903280029094521674596818868743189052666593373403551079335758925098143211013569040330065522372940747927774375094132243264060960800806609036085889826048234868786886128889572613927618823737087619807261389403544393240709354371704360896632634987997513758133694177658708586765190909575574238401462765172526251012162308845293390306771229798723258411190059106514287938232805734930297135875449967857817462186794078518659534896631606477033969197053410879054605096396730012033702934911661346086820697716059069357773434546945673106679245942523439826648465727384736370043953965511929147524227269409860710265255136406842853118643142829803883930842616714685674882726628387091353318284167520999789668060429997331007917553946502720608652643031851146109193409898934624164086419198462876949913627297349907176017758380356958958012500221553031999791824820839971199376875481680285720971655532934987593141979193141707755328587017947316296020397437285920396716827656911078781897653931331975320898143330953655705858562751495647018954309816865903400665776834440943735866219475669945676053141925606324714482692854694430936964790249083913312632872639265703045001581819590316300665161518356407419814738416490155141548301822494065368171160932381361458463405845596806705987488842512530429708058221296699120107566602211773793848283404332149447219893270592231013223593702919336190491837145820923320044074718402450488926641156511095707536987086505519269649084178648625771012556516953371894664932049660519216791310990162851147310244436063006090140630266804885854710859872366995949793215927418571208257995540346231248065446517308925555604193723415633538980272990368511118675786685296959388623178567569005579922544263165387306979964697152851516828313497783876789049858337775805370306433806606646789953717924049275152873739171710291250252330169907955087296343444697973474494851537583919459903312195578325418266630783189327895756280289441676186670578172057200434344420591214229688391672102333762453258294088987897767606141468808314361121918389045626148349245580485441754668480150646148581779225987062621906878483979523400266037695282564248874071741041884144292252917905755148424898678737704421179278236106198588136096522705110621736309425614903993143532448026957962156751794801322984151323111815802497475150998296881270222284301397128806637634913053114688973637819296694674733876324726387814535885160184223232491920953521619391132328103846096922118509512717603562733440174423903028596343503313627618781127977439506117397782773349074480508117530650641478191475640447747210222053258540669387057421721844927887364582091037828812801591457940565040218126281835562889737681123536625405807414053082519279865058647112247534976691506193867226463112751440345402265134712698259774387222070549240526984070767610328733568931351825576627256171857145029626014234989519298983712911039324668292009716731125263889640356305410959911240730110185187220365340526415513571065981093336440305003656914781880737417637972469187245933345141979376054576395361831794679182831336103315445295558231492604362575263108998067093522516458555029054604842428633998544950930907340232247784071266309706854724434031309684503082659595984232588741711788490781075941737744310348200775188121444010316252921729965765373298427047463737430334270603612355745431724965371481414781989767273240876371400388898382951502781530464930684890985799681564541084977729431409675486858624235488364008100041759470654117570561381663446573943375905112628369727143633294682139566961272080032012317309671453417568803652433517082083855653658417153933786553946972154168345415276914494271542288907816271189982824556984517681623101050131407796932184619774422968258362190187470095947794318117181985923847732880147391639713541813057514379949291739289871563924573869629491686174429880758664539590507011397784973429207288390199028758861823150780057611133615199065134411007502267819079168089284088724971456104506176589015528000843964390667086934226177507721464763765003362794417074500631123346343380780433012144401938251507121393174791936799818841936741516199846601126933980542989968172941389290215819677278373738318805592558561926019633307662799299646390908424892239515086835735265293697121480459837761157068922201441478695763704398726137582793058151940811726914563632841595346881575123261093701244019098936613894760266647992481195112568647269031631978911419542115066139352198517102147972875201561307348275344229422297354811657874212037994904675703979432523312664005062096062832679813940454307037821793853174332861318797576334777094519690325500998783310688159203139107683072426532419929991054230760015373324217831947671981315656644996684791222670455442315914733433354167799415616483307711060995297424551859818630931568985239403579799637810474930013295777075452005174385425971900600221754498648188939571145946978341378210440669046946866334057861471609257278485959574799971652872590560715790646949491550116017889721331021664424013987737196391946727896331131873616126361304624613283832790769003219077174889548708067528554261684501972574559803450419447851098030455045739292008825568388705404853337397257690800353302427032677197211475834053952433915458679183751101530060851450379623496234833528784667948803980468572598534343090410906072596969477983922023782558096973501685070348195504255963831068465878004087940897117811815289001431237752695165050230617009855039183219641402308191470060480275421381638441893858483797859590799589670140931982914233874415369063997415548743546204700583681882900447828303409135899719973390622312973869889168492918698639421815020098530777335997874119897802615087817050793735696962418253237721018506122754396726235527412231030247062376813461054555615074502616139619008498553264979165159408127441340051838973577537476912026737933472938438166824594213477426378380849946410200219812294643152118668628611439295791653263531282765556813755411149553351351788435111863695559318014712109888563076432390787649047335946696531979051189542363046686915377761567883636036124617716291649601122501469123308952871677063868032470627103552030219685978871907846167822542616512516035457798647956106434170479597587548951427753406692796594477521564553328707762869697941782228570505457119090992071768481712204301883810060164379413868049986068525477486946903585519551129691335536745098793407845164014892094377785035891225527604417883969503147549374661336976313045616912111794906058071316278947830584199394823634625400322839561321894528538866137473485070708817266993839292323025600801643883907946119742546740025063445303714537160368257842444201810565141536510238394346420164728113456586608592717610390499125258468633285835100326502882637424136581344336414520986931219790135006822617974009636048159413451164805510226569613976671950454551500535054381686166480027189995115015229933916521480031152171021091372605664748604013211255662245293209964844002070620685938840615007776368220461818883844332894575780904940827542872139190029865010089967560905602692986374330129972881720109052172640670462719801883929149140527776013952131586737140889529629310445328994292517007257421633044312039820275826013748465501647693258319936046851128101258858768875624980150020879822475355536172604553223195263904128902625770113718215162822953424668811612492063918985012545524233743543211869870673778309385546318431836599929838987169425851662025105208282506716375225564273301297736896097588067342777472430541987188738948946780662378965615831295716297323989467711695657379285141826780668559047536363694882191706363954467389987917171841341828948891874108510016472057989954796847868594628378944173690916166132591908813131907806721348708812434788869187004884934091674065544075972829695240526661732741362648251191809448172404495534045722483348416897291065210212141188718511904231237530589934346321454411692927931302705637586247283787508466030035285942154669850868588040308202017881124141535658174434446672122539884848235251002093039228002098757080552001834437588456707947994104199030165799724061424010676046307086114740741897242875745072409619393975775236756977101579583488839095292206354547505308829352031191155530424015009439578346648439939866341058667771184699599068763554949883304883878056061130297204587561623289117932818894968678620037028137861889886632716284896676286691914180567756741732952842702276251966141867708013419933392173947524831400631645348228620251208932690255011800040417622403820384377222521511145385488307803972709403685113124980875704990991172759736820389425754826716753566278306575893191765270170392171294222125161975561388318349538041122486229766175502970839656196755294875197471431062208324422168416022163690948249371156686808838813718005204522182588286814329956324863341174652435667069681110239913956239671125509752791166358433573840532914070248570213153241083877428075823783681925115960338579759834370907575891877481510181382176659156323579154012584744030416370763536679978088931501867161094996921174375751275822858933165810438429007637857242507159494439191251085953140265722853016781335603756390601314156610392900826616790226923259144742289469833156104569003349435562341355962101342714114449940403815448780219457907108823832365825068759507239675732254510346207151016645199090862936172629488077462073656245899261494486548775385946569058704079167832681454288269346385678071958674773293763773415972837555426508521714941781868870627840297870881294816821081872556559142629182966498364851799523049895008567338397512055376533933246512701940339818245393334897053406739972030498495190071914059187081942591379544746601534001097131937348057009816431356989087082631373774838081795768128444591421046639783293452091478991381506149258631340517252771807972885756216028561277276905523726779198630957339826557376423612622116800325327001831453908917105712202052113455770655498511293383250153901515282121592067127095236216779245991705084824531222436262282117060831261658617178899534335331166712414319924871528651513940769355947125639535129626067349069484719056293005325713263898320212391062647250927740215111742965332093981184510435629520319701173076043725030206415362023837029403496206735295407159833564789208773200577692309450059006907228213902615771738369346047731638318479632474193354445546285819368085181469456925915144783902515196191977889690858361369186915503214007836657606001725419778484576633886502246605589255745115090814502151325758133941537400392302311904896924661790698658191540173938471687920205904002242540772780550995979433525716065384423567200709998524401510957724127796836154078675565585441065018819680327897910418858089807320950318300946209406147002618644064360319485204937773814976679564209402065393862633740949661328391383606685105160340623509803095663432386960834267192656484431864763368341402906776831475944593162054453782645274133416633673948181446390706172028665429644995301163131910225574175671065851064883691561020882392506608347852104883865732123631623093010067330416143561268760076747791207452002161760956771715051689920737250960045384133831283729631825165744756547046150721456858572317614964109147699918440140134544866142493447440633207083895983026261102447617295077813246169775700887980246859480227114447308818395550862735268876709156272546940144720097170478273996448481197105658790024843267934380698895348150858873508980601837928350111521407922614141613716920901443080154799341208506575663081660143648923966861198926340373280340906322373117474709518932940071320203093432456278101460055578356336827465448827357892740253662640141905480201043187122788370410027315353223844503385705575937262869341316420183586877559584016073869187806976081096214552481826611316071797321857858352557611270857121766429707034949996989250010905225177451922225154061112491420888851925870354337397921244697108468746527272903473150486083776298379255642147896433623442457894286109486559099785159816836170578257511410886561333786435429778743755219984894041716905158266506252333901490889822509343706916942061197127661065157256260182873918445040959877680581865648634132896854734504025538139353334664163129606457887954449987139665533633134086801109368718168223548024406341057922244160831355722090176302467768403073067857113698665150090702895770745838446034137924998108338210021762595090039438633644405778183635657200309456870222643538635946591231719264718598106996703314830904801629220689279095279502480589373579091321618620141939026594252804807394099591449935489406622677751155378428181700331277778045615279621511332335552354658826334844524530346652201530849340029382287443879739647221794249354790119663655735053090784971340056012915752215034964080172327731842677704220201779629544626956511773869874704325319733683507867226116000860721285557554815997098916754469766362260512440798768456135994549073651222540899777923220684386767672467938230798324686142457524779020051369340775175898483419714645476280042373632880796086629853283636685236952828402154314789408890446657780726152996319645532204797295159609665544077095229553531759190511619663485955887081008138256255592472550204819739475795780885431940771299883426376289821128788783557782744763443083280381556763970566727321870278462355443887459837181037602362773017584143655546935761521555236434326843929137589670238366473549652498370210705051266994751680899665727954515990851122678746400206772815573730796141376059871261278978940180330321361721659200350539379394467965766164077584552670979207771768571729460358997370103400154076582751040001289323126982301628735824458158420212794067193297042789520546795505646397640782197731235032847265860571139320304554388837513812379117739751220049575665263179940588329111498859734120697057843010473740200908959557728049537837943211546691646214528115468137287453223158732231021765485351274825976271684061552363337878211821640660797452460476348403845899162584269853478807030533090062000398156188979296282449351709278359112606023984285838177173006334560989177465195916023809088007921116952104847515119316366285390219208757502946983283886072239487492701403515155843981714566675914779937235922516971409052453488812124737299561754404229381186418356536122607984415165518312759552917416379718725091866944259112910671578037358530010268586790848131835501110205474018802820898967320612324672593733851007927112352176748873395218538223028026107357284667814903121278709600773289826655919980417206526472288938969743032049078028879943072981998772862758905768593079114224355446965924780072493693543942790749592968093224281540451361306102210702423509265083771951102056597404343712862730071779748270748640621773725359035582550795420486875282785776367141890970506258455063107270658832159574931563746714835457421406544277664280126123331606470149352071211598259641610192378440994501496483007487014177490361690346749203407326768896770112173718499093300506250811950325851408606712015354713200045047599584173874526910366769549064366993533645002990702839508837257851938999073658929909264130075086575422862783836803422941668229478038287939584168732952372456617856173826285696915224432938061752225338096816924094895765248468278988143878275647027021208041119268858834851761011141336556556870390387704767442803262954032036270377989661122641927081813634302763232195799067542125105910490027815864606557893830082410615540604503223787479600015742581952841056961673050667525486933678589225833015912986895806413761898778407239780464227274659999047322145655377582069415012851236781878599466872880733665788158611489046823359999825542033836308857917473239304394952179346493726429153062598502512864898729095816885262925376365648255692582721602885957443587139980144966074198736283038578133704727459127595844573475900790014861549262611713936632475956702091670680143715254605320581819033508792298452826167529783725371610026121399254995292009933557337591206599816921167907376144196994200633219310913133065449721449170213772249741245442786160662837349264546563765309385068444982778386636178063677506071334159083252808042074373495552904679665784242698248947099558848476119840496101396521006777340151132640957164953797776204388077958845644113616123704853500640055220680772108891746421702096195961781135137984965812434562263736787169067633562766034372031796119027937364215197619227093431675946616101291264336336429852938982666036815595395644969079160997247295942819137612935017817284279962559475915963731030580388071101416412994904039489352150908364718688523737368155850024722517199559790040978158958602947667814217414859625800492375702944994924683827100974618805230748374171809598336844170124124201111582674987066179639901948246261442531233981060714754731111633837277402343517784326318130826684903826538529390587076445212519611871162785534217988054778871289305119491276546716950713406893829963554516714635036448437936656186117710357972401275802705298780574200830036673057762213117673766233495786953863154403438860982673999627500109014025676669018444853161787516250317874520860762543566079768922936824991394452665684478119543930727513876467750402726501890800279141587920831699568050998038525318109026196787065486162448715721832445642956504974789356746986027945623340828364757495523036601031880491374409180356669547400884255256176295859973105794554293868779590182929905890667896358105789463129007096293776003012767054597091201652168876803700575591534765356566190404915904640867123265926048675994326980347908063806689924156094905991064076493372860359466422885527660233284345683377451534174526997175751577147607103588969694813281315210549835694677301768126472688556302490710380358842220767883219642140514542614488279123673340796893046359583787859064008585955155271937844368752585345724472202814227110671604052877304378358189658080584371715805302766503526179851388328437902453134647547308230814745049134546205432673523489363376544537556812480927596590214292337049227367262895269332522658534099052913071654036260980943397573644658142740669854611253848992866435904447113280154560064930329326083703616864686228541967925735249097068942025464159048339521144252294510876526533404202414830323416077466270805579638032520854349427254310356033620468386887641267135434035125321010563741162460350483472767545980093426166702287658245055925604510307393510992432755418676090648727921758289414993140385560714372969355450331919821073205732619541868415981898630845211189255202880292159014286840628629919229386275792377163137718284931927269131234042371489117609663548855967470651539643378841941789437306994557318437991421515782457741263058618081241603935113686424413897063424981259132051413329618753962253205111916407202447583501636135600502667629991696233225551743788542691753145836249004300284625651370767724634888136831187698628588263154515153954511910621352371985522720878159591788891308400060780732027855630971558071436711536015772061921332347451338333606903683864449368925788796066528712192939890193380011163608187835109519029366730115389350070474400751421221476003660332695304505913667450675990685626513435247872996200635889803270121063706944068828921389338457070534842795113791939645955310070720507875233612808270585155904094149408542089021661668471161802449278835242774784942412192841820162489362845907350136721913950524016247837694777454357184881680621189458461318740535997489966123546751924252884764231164726252632783748514585646687626577607806674520615801392009477788072502152351540581108289207663366782210355708601771746257451127741666703826846745766222775110169886433974273782471482731009793975734089484256389494675432659238209810602711050100351222958568525959498830250290413290419153235327567756082803700182510403989420898004686239321357458892390385349577212564253827427127413449221851546646240349125562290674962231744413611820356001582360765517805127138044804765993039354688615806396768137017132177827287138825149060050573869090846950224900694655723127877837346395929062564087494599624472467607853582275814837495576562101112798241418272724914947898175237029677240456462133926891780139141054947675176977821119728920814133368784376521508408232971223926862088769102121619086355881344698975879547040400411592763553059450354497919865765376067360760115188573694502347087334034229026685972696589709936934525244238440875595978759547744072078210658938715028892488348539028079805369891087391975873237884960045721978969616744396757870807425943748510734486517562170673347138333548633180198467637959594542901680167708195814928142886570111064020287061556559775212805138360488981250403815064428228939170709869049220544867302991938763232286518044147644818240040726040230618740802704927869728788693398768413366429541700469906025103465210306054745262275555857565292343689672653910362449257358616353560063769410488885429194949972785979586758809420829540639473192536800741857831285278050716522650601006925505335199898851515047430307517393998717752752195551909954806417238271612589835217155780460857615163080558826334719822386327446063784081659400832275486330104985311268337427819962234009861222155245211781988302456196283303157730764592890362090986419768161657942606739806394352572499923333152775719287853218606154795520761888504267451646492279440170988778243904355607635857755279924631066728674949887425886716853912663031173830640055671430886584912431649716218059760509572304156158551543862591797789686985256474724365833735607059541749863764559944222835477373771126451711082831494769800469680641871156358662227444698936556978017324800086232140191921640565675701193293176791127530312980973272922687499551626146793373685002506773953380299969528059667790233846696143405269769087890293297579457858088410165949541957165123168018701613655960966853705049915708573107605266893418685599486698855193054829062977165899471649725067551297243122531586036337078202340745694511183656260990804027477791411880780274832455222716325461509985716791575516714607774124962471104223898187101469529608523974576210889665613646201268223755642526343369512061583276501882226847312756165965530538746983833682524681226493997015822733845620542592255148831206566519097071599324535034253762027045775738041990423504064317811610231046711626123969542603955851139458041190925125871855376006068052487639540077260031405483909515881446632560940865520005824891110103787735597899540533647104221628797167811375915985703846769785701172020507664804185128662560153889988884806801420719303227573373158895616756162459310317245768010037475675288407257121665878424619707280973920178588382088655953289014747324770891278454245169719793721565722750648174930810887028981452197169012636003014509661499504426613522924885807048369670944252581986411937197889611286341484271623826507963816030810028965477313146723968239347457714138136905283274951401892234727427909020369824960719902201107924188347860666757199879869413634634159528981615591484502244645904093118306707717241641187586441989456101000464374227123435065819818437416845881980758144635708930606740655402815148313143180471121251458378389422279230627973763878671923554308222217401151879503638625365791741719490514780012512301471175462791961643240196034523434711645111251837332940207809504503519823970516008939891306207446910536604423856249963147167483520746192680072580989655852288531308477714333975632515330783901588092091874048870000989044112053534814054837596891946439586502740012175925250520194056631955343549051832931427242350696026508997062153723386913109557213545607892536870172751690662865732653120731376039453358111186309804571098495323530388315461454159237104966548139920893827423074312687386174390665694815643184600107446231928246380918662205192778518808901973600925335561384901875412420092186046221723300061830111454036515723814351545725864664074134132915661164533539692247940219712728231821196405249318772147801673683225192645325811728413301534530444813329862192595915899498589730090373535717587546725664716128914357097678921765149937435863473920587428317442609986604221553734677835603022713412004091689666159188886431671787021732659564723830977277028874282887544865637312726737739724829671703822320799915864509466111256460923527759032732746356506282210285485726179753198839995414748293782745789332021403963871116977223434373070911808511780361182126176132536804252424987979299823445887594948932648465329808387782268962187631114213750795904299746756657134433851986410902205111841529683825397514948523655468669739629391312019162714375458430266273220636080643738423377079099350089729014063620044888657174879688466464338136975020811668163760622516142699140217452043668390671825033480481868349300378532412675808749129916804655830461122228938222037602845029818682742141333301028341890183790184083582910325866645351062822368275901489828776718640966127896825032609552705563807984259148526072651191682899833804679014665805675978575403264501016923590620107160659028601081337530319977479272188981468887160998776495191878285366164666550471033994600606387653185218086703110738717200451376785836198521571531419965699771891572296188028341127689343582486540913479552669019379793178102053646096604709272446364466983023385629939033206472733540186052372076672405584934927427865198871879685980029302883438506010059931144578464450553960346216417011688486809149635805140426264694980876435547628961903806018116122458207907685347566198137101647650159060112726100742536465391612082361913218168480607279831623764307195179306232696665984622624272853561035635922140216514866643191443442952708352740808929755270850414828011952098592334433328732029208928811901705836072091742692700134410613085502034221799738336570988215246756308503575285389649109367272731435616854995631638798178778542246893113395338385063063879218131755459747940623864868408460184335720531872494265490137274666923244164878998068720200133686892563061217005467290056302278621128733805332152872991938544561300266126493772383994062147348885754629819737874166545516500005578895304675481127396548945919559446480366244356450247921129060559312586541201901994200566170870111843692525079454689028768371471876314243709658409815058684361165088243848905975437549891215909423377298412562886546857262612901920335105829273611033003801560216142603808652080934920384288858336043997398055983736210656609714321201601934304650201643154557328839991082424033193486060253341754530953543869679042143377343522433507522853498626351412095785327474761938831315952638065723404097782542191354532488423400416688550764790435490018741070903424904780984087839293940707361129218709756127005095069383114030439734061247520568693279617879202519955893619438436823110413464644006799134273967844905572036288219538317400713574714320605345004777241792939479374132739663730530167585832531777766027168252581033367128999611346746592174506694709378046200830946958591621680848694544952983310783668584967764495694288129374306502018081832933698345449843392557904269180070101321054113072946676823621191421867619799889227713437675123655849569325017250806176263770387484273171009914435560179727829770928919889267842750521871093259471449405571850901277052697482820872554769111730693822892894115050175846493113738857895007628280832229420237774798392219345877843734367591489625100162706588333659724113584566261472449490555832235553314418624808450451630216023113926086369358013727281178282276634641293322989482610251680234038879964383315826122161346185230346490125277370047446604824668164676481256487360231940685851300066916405861164967119112739065242461894512990069152816062868535181957144279079682157569756479500243555946895393504779192223041422772811419956065907072087859193281669681379472593328575056313502179959968774111927482693248754029066602775561210238147419376427378573749896773162879281138245636424664091602377754875614804355348477538232094007523702237577668351669873596806588277487151940380960659644937177676620256398280296182157958328865122549742939717842083252844469218251213433061992474224282601678889349310797079230826654166973153170917822767961991556052881993225219014547064173443230001152984955994048345305388880146830401537438729180904582796306683615344950053275930827954760729395952711718332994945474080969780971573605025876609489947751670048590536486665339057656459494784833476503168622544124389913510425622956958193874861427803164287632572099585213838786384556235253332884840463584821341146783737709349429673208989460832837135807783473333666893147958645976432105012418950971761953773882379931258171402240723733803568874182595616927457493142956382658911841\n"
     ]
    }
   ],
   "source": [
    "import itertools\n",
    "#implémentation au niveau de l'itérateur de boucle\n",
    "# dommage, pas de @itimeout for ... \n",
    "try:\n",
    "    for i in decorators.itimeout(itertools.count(),t):\n",
    "        n=mfib(i)\n",
    "except decorators.TimeoutError:\n",
    "    print('en %d secondes, on peut calculer %d termes'%(t,i))\n",
    "    print('le dernier est',n)"
   ]
  },
  {
   "cell_type": "markdown",
   "metadata": {},
   "source": [
    "<a id=\"deco2\"></a>\n",
    "### Hey mais alors ..."
   ]
  },
  {
   "cell_type": "code",
   "execution_count": 41,
   "metadata": {},
   "outputs": [
    {
     "name": "stdout",
     "output_type": "stream",
     "text": [
      "Valeur int 2 , double = 4 statique\n"
     ]
    }
   ],
   "source": [
    "class Valeur:\n",
    "    def __init__(self,v):\n",
    "        self.v=v\n",
    "        self.__name__=type(v).__name__\n",
    "    @property\n",
    "    def double(self):\n",
    "        return self.v*2\n",
    "    \n",
    "    def type(self):\n",
    "        return self.__name__\n",
    "    \n",
    "    @classmethod\n",
    "    def classe(self): # self désigne ici la classe !\n",
    "        return self.__name__\n",
    "    \n",
    "    @staticmethod\n",
    "    def statique():\n",
    "        return 'statique'\n",
    "        \n",
    "v=Valeur(2)\n",
    "print(v.classe(), v.type(), v.v, \", double =\",v.double, v.statique())"
   ]
  },
  {
   "cell_type": "markdown",
   "metadata": {},
   "source": [
    "... Oui ! certains décorateurs sont prédéfinis et étendent le langage !\n",
    "\n",
    "il n'y a pas (encore ?) de librairie standard de décorateurs, mais il y en a [pas mal ici](https://wiki.python.org/moin/PythonDecoratorLibrary)\n",
    "\n",
    "Guido van Rossum a par exemple proposé les \"[multimethodes](https://www.artima.com/weblogs/viewpost.jsp?thread=101605)\" :"
   ]
  },
  {
   "cell_type": "code",
   "execution_count": 47,
   "metadata": {},
   "outputs": [
    {
     "name": "stdout",
     "output_type": "stream",
     "text": [
      "2/3\n",
      "7793533013102485/9007199254740992\n",
      "a / b\n"
     ]
    },
    {
     "ename": "TypeError",
     "evalue": "unsupported argument types (<class 'str'>, <class 'int'>)",
     "output_type": "error",
     "traceback": [
      "\u001b[1;31m---------------------------------------------------------------------------\u001b[0m",
      "\u001b[1;31mTypeError\u001b[0m                                 Traceback (most recent call last)",
      "\u001b[1;32m<ipython-input-47-8e7ed8cd920d>\u001b[0m in \u001b[0;36m<module>\u001b[1;34m()\u001b[0m\n\u001b[0;32m     14\u001b[0m \u001b[0mprint\u001b[0m\u001b[1;33m(\u001b[0m\u001b[0mf\u001b[0m\u001b[1;33m(\u001b[0m\u001b[0mmath\u001b[0m\u001b[1;33m.\u001b[0m\u001b[0me\u001b[0m\u001b[1;33m,\u001b[0m\u001b[0mmath\u001b[0m\u001b[1;33m.\u001b[0m\u001b[0mpi\u001b[0m\u001b[1;33m)\u001b[0m\u001b[1;33m)\u001b[0m\u001b[1;33m\u001b[0m\u001b[0m\n\u001b[0;32m     15\u001b[0m \u001b[0mprint\u001b[0m\u001b[1;33m(\u001b[0m\u001b[0mf\u001b[0m\u001b[1;33m(\u001b[0m\u001b[1;34m'a'\u001b[0m\u001b[1;33m,\u001b[0m\u001b[1;34m'b'\u001b[0m\u001b[1;33m)\u001b[0m\u001b[1;33m)\u001b[0m\u001b[1;33m\u001b[0m\u001b[0m\n\u001b[1;32m---> 16\u001b[1;33m \u001b[0mprint\u001b[0m\u001b[1;33m(\u001b[0m\u001b[0mf\u001b[0m\u001b[1;33m(\u001b[0m\u001b[1;34m'a'\u001b[0m\u001b[1;33m,\u001b[0m\u001b[1;36m2\u001b[0m\u001b[1;33m)\u001b[0m\u001b[1;33m)\u001b[0m\u001b[1;33m\u001b[0m\u001b[0m\n\u001b[0m",
      "\u001b[1;32m<ipython-input-47-8e7ed8cd920d>\u001b[0m in \u001b[0;36mf\u001b[1;34m(a, b)\u001b[0m\n\u001b[0;32m      9\u001b[0m         \u001b[1;32mreturn\u001b[0m \u001b[1;34m\"%s / %s\"\u001b[0m\u001b[1;33m%\u001b[0m\u001b[1;33m(\u001b[0m\u001b[0ma\u001b[0m\u001b[1;33m,\u001b[0m\u001b[0mb\u001b[0m\u001b[1;33m)\u001b[0m\u001b[1;33m\u001b[0m\u001b[0m\n\u001b[0;32m     10\u001b[0m     \u001b[1;32melse\u001b[0m\u001b[1;33m:\u001b[0m\u001b[1;33m\u001b[0m\u001b[0m\n\u001b[1;32m---> 11\u001b[1;33m         \u001b[1;32mraise\u001b[0m \u001b[0mTypeError\u001b[0m\u001b[1;33m(\u001b[0m\u001b[1;34m\"unsupported argument types (%s, %s)\"\u001b[0m \u001b[1;33m%\u001b[0m \u001b[1;33m(\u001b[0m\u001b[0mtype\u001b[0m\u001b[1;33m(\u001b[0m\u001b[0ma\u001b[0m\u001b[1;33m)\u001b[0m\u001b[1;33m,\u001b[0m \u001b[0mtype\u001b[0m\u001b[1;33m(\u001b[0m\u001b[0mb\u001b[0m\u001b[1;33m)\u001b[0m\u001b[1;33m)\u001b[0m\u001b[1;33m)\u001b[0m\u001b[1;33m\u001b[0m\u001b[0m\n\u001b[0m\u001b[0;32m     12\u001b[0m \u001b[1;33m\u001b[0m\u001b[0m\n\u001b[0;32m     13\u001b[0m \u001b[0mprint\u001b[0m\u001b[1;33m(\u001b[0m\u001b[0mf\u001b[0m\u001b[1;33m(\u001b[0m\u001b[1;36m2\u001b[0m\u001b[1;33m,\u001b[0m\u001b[1;36m3\u001b[0m\u001b[1;33m)\u001b[0m\u001b[1;33m)\u001b[0m\u001b[1;33m\u001b[0m\u001b[0m\n",
      "\u001b[1;31mTypeError\u001b[0m: unsupported argument types (<class 'str'>, <class 'int'>)"
     ]
    }
   ],
   "source": [
    "from fractions import Fraction\n",
    "\n",
    "def f(a, b):\n",
    "    if isinstance(a, int) and isinstance(b, int):\n",
    "        return Fraction(a,b) \n",
    "    elif isinstance(a, float) and isinstance(b, float):\n",
    "        return Fraction(a/b)\n",
    "    elif isinstance(a, str) and isinstance(b, str):\n",
    "        return \"%s / %s\"%(a,b)\n",
    "    else:\n",
    "        raise TypeError(\"unsupported argument types (%s, %s)\" % (type(a), type(b)))\n",
    "        \n",
    "print(f(2,3))\n",
    "print(f(math.e,math.pi))\n",
    "print(f('a','b'))\n",
    "print(f('a',2))"
   ]
  },
  {
   "cell_type": "code",
   "execution_count": 50,
   "metadata": {},
   "outputs": [
    {
     "name": "stdout",
     "output_type": "stream",
     "text": [
      "2/3\n",
      "7793533013102485/9007199254740992\n",
      "a / b\n"
     ]
    },
    {
     "ename": "TypeError",
     "evalue": "unsupported argument types (<class 'str'>, <class 'int'>)",
     "output_type": "error",
     "traceback": [
      "\u001b[1;31m---------------------------------------------------------------------------\u001b[0m",
      "\u001b[1;31mTypeError\u001b[0m                                 Traceback (most recent call last)",
      "\u001b[1;32m<ipython-input-50-95b92003cab4>\u001b[0m in \u001b[0;36m<module>\u001b[1;34m()\u001b[0m\n\u001b[0;32m     16\u001b[0m \u001b[0mprint\u001b[0m\u001b[1;33m(\u001b[0m\u001b[0mf\u001b[0m\u001b[1;33m(\u001b[0m\u001b[0mmath\u001b[0m\u001b[1;33m.\u001b[0m\u001b[0me\u001b[0m\u001b[1;33m,\u001b[0m\u001b[0mmath\u001b[0m\u001b[1;33m.\u001b[0m\u001b[0mpi\u001b[0m\u001b[1;33m)\u001b[0m\u001b[1;33m)\u001b[0m\u001b[1;33m\u001b[0m\u001b[0m\n\u001b[0;32m     17\u001b[0m \u001b[0mprint\u001b[0m\u001b[1;33m(\u001b[0m\u001b[0mf\u001b[0m\u001b[1;33m(\u001b[0m\u001b[1;34m'a'\u001b[0m\u001b[1;33m,\u001b[0m\u001b[1;34m'b'\u001b[0m\u001b[1;33m)\u001b[0m\u001b[1;33m)\u001b[0m\u001b[1;33m\u001b[0m\u001b[0m\n\u001b[1;32m---> 18\u001b[1;33m \u001b[0mprint\u001b[0m\u001b[1;33m(\u001b[0m\u001b[0mf\u001b[0m\u001b[1;33m(\u001b[0m\u001b[1;34m'a'\u001b[0m\u001b[1;33m,\u001b[0m\u001b[1;36m2\u001b[0m\u001b[1;33m)\u001b[0m\u001b[1;33m)\u001b[0m\u001b[1;33m\u001b[0m\u001b[0m\n\u001b[0m",
      "\u001b[1;32m<ipython-input-47-8e7ed8cd920d>\u001b[0m in \u001b[0;36mf\u001b[1;34m(a, b)\u001b[0m\n\u001b[0;32m      9\u001b[0m         \u001b[1;32mreturn\u001b[0m \u001b[1;34m\"%s / %s\"\u001b[0m\u001b[1;33m%\u001b[0m\u001b[1;33m(\u001b[0m\u001b[0ma\u001b[0m\u001b[1;33m,\u001b[0m\u001b[0mb\u001b[0m\u001b[1;33m)\u001b[0m\u001b[1;33m\u001b[0m\u001b[0m\n\u001b[0;32m     10\u001b[0m     \u001b[1;32melse\u001b[0m\u001b[1;33m:\u001b[0m\u001b[1;33m\u001b[0m\u001b[0m\n\u001b[1;32m---> 11\u001b[1;33m         \u001b[1;32mraise\u001b[0m \u001b[0mTypeError\u001b[0m\u001b[1;33m(\u001b[0m\u001b[1;34m\"unsupported argument types (%s, %s)\"\u001b[0m \u001b[1;33m%\u001b[0m \u001b[1;33m(\u001b[0m\u001b[0mtype\u001b[0m\u001b[1;33m(\u001b[0m\u001b[0ma\u001b[0m\u001b[1;33m)\u001b[0m\u001b[1;33m,\u001b[0m \u001b[0mtype\u001b[0m\u001b[1;33m(\u001b[0m\u001b[0mb\u001b[0m\u001b[1;33m)\u001b[0m\u001b[1;33m)\u001b[0m\u001b[1;33m)\u001b[0m\u001b[1;33m\u001b[0m\u001b[0m\n\u001b[0m\u001b[0;32m     12\u001b[0m \u001b[1;33m\u001b[0m\u001b[0m\n\u001b[0;32m     13\u001b[0m \u001b[0mprint\u001b[0m\u001b[1;33m(\u001b[0m\u001b[0mf\u001b[0m\u001b[1;33m(\u001b[0m\u001b[1;36m2\u001b[0m\u001b[1;33m,\u001b[0m\u001b[1;36m3\u001b[0m\u001b[1;33m)\u001b[0m\u001b[1;33m)\u001b[0m\u001b[1;33m\u001b[0m\u001b[0m\n",
      "\u001b[1;31mTypeError\u001b[0m: unsupported argument types (<class 'str'>, <class 'int'>)"
     ]
    }
   ],
   "source": [
    "from Goulib.decorators import multimethod\n",
    "\n",
    "@multimethod(int, int)\n",
    "def foo(a, b):\n",
    "    return Fraction(a,b) \n",
    "\n",
    "@multimethod(float, float)\n",
    "def foo(a, b):\n",
    "    return Fraction(a/b)\n",
    "\n",
    "@multimethod(str, str)\n",
    "def foo(a, b):\n",
    "    return \"%s / %s\"%(a,b)\n",
    "\n",
    "print(f(2,3))\n",
    "print(f(math.e,math.pi))\n",
    "print(f('a','b'))\n",
    "print(f('a',2))"
   ]
  }
 ],
 "metadata": {
  "kernelspec": {
   "display_name": "Python 3",
   "language": "python",
   "name": "python3"
  },
  "language_info": {
   "codemirror_mode": {
    "name": "ipython",
    "version": 3
   },
   "file_extension": ".py",
   "mimetype": "text/x-python",
   "name": "python",
   "nbconvert_exporter": "python",
   "pygments_lexer": "ipython3",
   "version": "3.6.5"
  }
 },
 "nbformat": 4,
 "nbformat_minor": 2
}
