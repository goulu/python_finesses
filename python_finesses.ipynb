{
 "cells": [
  {
   "cell_type": "markdown",
   "metadata": {},
   "source": [
    "# Les Finesses de Python\n",
    "\n",
    "## Microclub 1er juin 2018\n",
    "\n",
    "## Philippe Guglielmetti\n",
    "\n",
    "---"
   ]
  },
  {
   "cell_type": "markdown",
   "metadata": {},
   "source": [
    "## Pourquoi encore Python ?\n",
    "\n",
    "> Il ne vaut pas la peine de connaître un langage qui ne modifie pas votre façon de penser la programmation.\n",
    "> ([Alan Perlis](https://www.drgoulu.com/2008/01/21/perlisismes-les-dictons-informatiques-dalan-perlis/))\n",
    "\n",
    "* #4 au [TIOBE](https://www.tiobe.com/tiobe-index/) (nombre de développeurs)\n",
    "* #2 au [Madnight] (https://madnight.github.io/githut/#/issues/2018/1) (activité sur GitHub)\n",
    "* #1 au [PYPL](http://pypl.github.io/PYPL.html) PopularitY of Programming Language (nombre de tutoriels suivis)\n",
    "\n",
    "\n",
    "\n",
    ">Python est un langage de programmation objet, multi-paradigme ([wikipedia](https://fr.wikipedia.org/wiki/Python_(langage)))\n",
    "\n",
    "= on peut programmer :\n",
    "1. [comme une patate](http://entrian.com/goto/)\n",
    "2. comme on en a l’habitude (classes, objets, ...)\n",
    "3. comme on en a pas l’habitude\n",
    "4. comme ~~un dieu~~ [Guido van Rossum](https://fr.wikipedia.org/wiki/Guido_van_Rossum)\n",
    "\n",
    "---"
   ]
  },
  {
   "cell_type": "markdown",
   "metadata": {},
   "source": [
    "* [Librairies](#libs)\n",
    "* [Objets et Types (Classes)¶](#objs)\n",
    "* [Introspection](#intro)\n",
    "* [Les Décorateurs](#deco)\n",
    "  * [La Memoïsation](#memo)\n",
    "  * [Le problème de l'arrêt](#stop)\n",
    "    "
   ]
  },
  {
   "cell_type": "markdown",
   "metadata": {},
   "source": [
    "<a id=\"libs\"></a>\n",
    "## Librairies\n",
    "\n",
    "importons quelques [librairies standard](https://docs.python.org/3/library/) utilisées dans la suite"
   ]
  },
  {
   "cell_type": "code",
   "execution_count": 1,
   "metadata": {},
   "outputs": [],
   "source": [
    "import logging\n",
    "import itertools\n",
    "import functools"
   ]
  },
  {
   "cell_type": "markdown",
   "metadata": {},
   "source": [
    "<a id=\"objs\"></a>\n",
    "## Types et Objets (Classes) \n",
    "\n",
    "Python utilise un typage:\n",
    "* FORT : chaque variable désigne un objet dont le type est connu\n",
    "* DYNAMIQUE : mais une variable peut changer pour désigner un autre objet d'un autre type\n",
    "* PAS vérifié à la compilation (à moins que...)\n"
   ]
  },
  {
   "cell_type": "code",
   "execution_count": 2,
   "metadata": {},
   "outputs": [
    {
     "name": "stdout",
     "output_type": "stream",
     "text": [
      "256 <class 'int'>\n"
     ]
    }
   ],
   "source": [
    "a=256\n",
    "print(a,type(a)) # a désigne un OBJET de type (classe...) int"
   ]
  },
  {
   "cell_type": "code",
   "execution_count": 3,
   "metadata": {},
   "outputs": [
    {
     "name": "stdout",
     "output_type": "stream",
     "text": [
      "True True\n",
      "True False\n"
     ]
    }
   ],
   "source": [
    "print(255+1 == a, 255+1 is a) # == compare les valeurs, is compare les objets\n",
    "print(a+1 == 257, a+1 is 257) # une idée de ce qui se passe ???"
   ]
  },
  {
   "cell_type": "code",
   "execution_count": 4,
   "metadata": {},
   "outputs": [
    {
     "data": {
      "text/plain": [
       "'les entiers de -5 à 256 sont des objets prédéfinis en Python !'"
      ]
     },
     "execution_count": 4,
     "metadata": {},
     "output_type": "execute_result"
    }
   ],
   "source": [
    "langue_au_chat='! nohtyP ne sinifédérp stejbo sed tnos 652 à 5- ed sreitne sel'\n",
    "''.join(reversed(langue_au_chat))"
   ]
  },
  {
   "cell_type": "code",
   "execution_count": 5,
   "metadata": {},
   "outputs": [
    {
     "name": "stdout",
     "output_type": "stream",
     "text": [
      "a = 256 <class 'str'>\n"
     ]
    }
   ],
   "source": [
    "s=\"a = \"+str(a) # le str est obligatoire : pas de conversion implicite\n",
    "print(s,type(s))"
   ]
  },
  {
   "cell_type": "code",
   "execution_count": 6,
   "metadata": {},
   "outputs": [
    {
     "name": "stdout",
     "output_type": "stream",
     "text": [
      "256 <class 'str'>\n"
     ]
    }
   ],
   "source": [
    "a=str(a) # a ne change pas de type, il désigne un nouvel objet (nuance...)\n",
    "print(a,type(a))"
   ]
  },
  {
   "cell_type": "code",
   "execution_count": 7,
   "metadata": {},
   "outputs": [
    {
     "name": "stdout",
     "output_type": "stream",
     "text": [
      "<function f at 0x0000016D36E01E18> <class 'function'>\n"
     ]
    }
   ],
   "source": [
    "def f(n):\n",
    "    \"\"\"factorielle récursive\"\"\"\n",
    "    return 1 if n<2 else n*f(n-1)\n",
    "\n",
    "print(f,type(f)) # les fonctions sont des objets aussi"
   ]
  },
  {
   "cell_type": "code",
   "execution_count": 8,
   "metadata": {},
   "outputs": [
    {
     "data": {
      "text/latex": [
       "$\\frac{{{2}{x}}+{1}}{2}$"
      ],
      "text/plain": [
       "'\\\\frac{{{2}{x}}+{1}}{2}'"
      ]
     },
     "execution_count": 8,
     "metadata": {},
     "output_type": "execute_result"
    }
   ],
   "source": [
    "class LateX (str): # on peut dériver une classe de n'importe quel type\n",
    "    \n",
    "    def __init__(self, s=''): # constructeur\n",
    "        self = str(s)     # utilise la méthode d'assignation de la classe str\n",
    "        \n",
    "    def _repr_latex_(self): # affichage dans Jupyter Notebook\n",
    "        return r'$%s$'%self\n",
    "    \n",
    "    # une méthode est juste un champ de type fonction \n",
    "    # les \"magic methods\" permettent de redéfinir les opérateurs\n",
    "    __add__=lambda self,right:LateX('{%s}+{%s}'%(self, right))  \n",
    "    __sub__=lambda self,right:LateX('{%s}-{%s}'%(self, right)) \n",
    "    __mul__=lambda self,right:LateX('{%s}{%s}'%(self, right))\n",
    "    __div__=lambda self,right:LateX('\\\\frac{%s}{%s}'%(self, right)) \n",
    "    __truediv__= __div__ # nécessaire pour / au lieu de //\n",
    "    \n",
    "(LateX(2)*'x'+1)/2"
   ]
  },
  {
   "cell_type": "code",
   "execution_count": 9,
   "metadata": {},
   "outputs": [
    {
     "data": {
      "text/latex": [
       "${\\pi}{{r}^{2}}$"
      ],
      "text/plain": [
       "'{\\\\pi}{{r}^{2}}'"
      ]
     },
     "execution_count": 9,
     "metadata": {},
     "output_type": "execute_result"
    }
   ],
   "source": [
    "# on peut ajouter/modifier dynamiquement des méthodes à une classe\n",
    "# puisque les méthodes sont aussi des objets !\n",
    "# (oui c'est très dangereux...)\n",
    "\n",
    "def puissance_en_latex(self,right): # self n'est pas un mot réservé\n",
    "    return LateX('{%s}^{%s}'%(self, right))\n",
    "    \n",
    "LateX.__pow__=puissance_en_latex\n",
    "\n",
    "LateX('\\\\pi')*LateX('r')**2"
   ]
  },
  {
   "cell_type": "markdown",
   "metadata": {},
   "source": [
    "<a id=\"intro\"></a>\n",
    "## Introspection\n",
    "Les champs+méthodes des objets peuvent être examinés.\n",
    "Et comme tout est objet ..."
   ]
  },
  {
   "cell_type": "code",
   "execution_count": 31,
   "metadata": {},
   "outputs": [
    {
     "name": "stdout",
     "output_type": "stream",
     "text": [
      "['__add__', '__class__', '__contains__', '__delattr__', '__dict__', '__dir__', '__div__', '__doc__', '__eq__', '__format__', '__ge__', '__getattribute__', '__getitem__', '__getnewargs__', '__gt__', '__hash__', '__init__', '__init_subclass__', '__iter__', '__le__', '__len__', '__lt__', '__mod__', '__module__', '__mul__', '__ne__', '__new__', '__pow__', '__reduce__', '__reduce_ex__', '__repr__', '__rmod__', '__rmul__', '__setattr__', '__sizeof__', '__str__', '__sub__', '__subclasshook__', '__truediv__', '__weakref__', '_repr_latex_', 'capitalize', 'casefold', 'center', 'count', 'encode', 'endswith', 'expandtabs', 'find', 'format', 'format_map', 'index', 'isalnum', 'isalpha', 'isdecimal', 'isdigit', 'isidentifier', 'islower', 'isnumeric', 'isprintable', 'isspace', 'istitle', 'isupper', 'join', 'ljust', 'lower', 'lstrip', 'maketrans', 'partition', 'replace', 'rfind', 'rindex', 'rjust', 'rpartition', 'rsplit', 'rstrip', 'split', 'splitlines', 'startswith', 'strip', 'swapcase', 'title', 'translate', 'upper', 'zfill']\n"
     ]
    }
   ],
   "source": [
    "print(dir(LateX)) # tous les membres de la classe (beaucoup sont hérités de str)"
   ]
  },
  {
   "cell_type": "code",
   "execution_count": 32,
   "metadata": {},
   "outputs": [
    {
     "name": "stdout",
     "output_type": "stream",
     "text": [
      "['__bool__', '__class__', '__delattr__', '__dir__', '__doc__', '__eq__', '__format__', '__ge__', '__getattribute__', '__gt__', '__hash__', '__init__', '__init_subclass__', '__le__', '__lt__', '__ne__', '__new__', '__reduce__', '__reduce_ex__', '__repr__', '__setattr__', '__sizeof__', '__str__', '__subclasshook__']\n"
     ]
    }
   ],
   "source": [
    "print(dir(None)) # membres de l'objet None ?"
   ]
  },
  {
   "cell_type": "code",
   "execution_count": 11,
   "metadata": {},
   "outputs": [
    {
     "name": "stdout",
     "output_type": "stream",
     "text": [
      "['__annotations__', '__call__', '__class__', '__closure__', '__code__', '__defaults__', '__delattr__', '__dict__', '__dir__', '__doc__', '__eq__', '__format__', '__ge__', '__get__', '__getattribute__', '__globals__', '__gt__', '__hash__', '__init__', '__init_subclass__', '__kwdefaults__', '__le__', '__lt__', '__module__', '__name__', '__ne__', '__new__', '__qualname__', '__reduce__', '__reduce_ex__', '__repr__', '__setattr__', '__sizeof__', '__str__', '__subclasshook__']\n"
     ]
    }
   ],
   "source": [
    "def f(n):\n",
    "    \"\"\"factorielle récursive\"\"\"\n",
    "    return 1 if n<2 else n*f(n-1)\n",
    "\n",
    "print(dir(f)) # membres de l'objet fonction"
   ]
  },
  {
   "cell_type": "code",
   "execution_count": 12,
   "metadata": {},
   "outputs": [
    {
     "data": {
      "text/plain": [
       "'factorielle récursive'"
      ]
     },
     "execution_count": 12,
     "metadata": {},
     "output_type": "execute_result"
    }
   ],
   "source": [
    "f.__doc__ # pratique pour écrire des générateurs de doc ..."
   ]
  },
  {
   "cell_type": "code",
   "execution_count": 13,
   "metadata": {},
   "outputs": [
    {
     "data": {
      "text/plain": [
       "(['def f(n):\\n',\n",
       "  '    \"\"\"factorielle récursive\"\"\"\\n',\n",
       "  '    return 1 if n<2 else n*f(n-1)\\n'],\n",
       " 1)"
      ]
     },
     "execution_count": 13,
     "metadata": {},
     "output_type": "execute_result"
    }
   ],
   "source": [
    "import inspect # https://docs.python.org/3/library/inspect.html\n",
    "inspect.getsourcelines(f)"
   ]
  },
  {
   "cell_type": "code",
   "execution_count": 14,
   "metadata": {},
   "outputs": [
    {
     "data": {
      "text/plain": [
       "<code object f at 0x0000016D36E3FC90, file \"<ipython-input-11-2ce22efde7fc>\", line 1>"
      ]
     },
     "execution_count": 14,
     "metadata": {},
     "output_type": "execute_result"
    }
   ],
   "source": [
    "f.__code__ # intéressant ... on y reviendra !"
   ]
  },
  {
   "cell_type": "code",
   "execution_count": 52,
   "metadata": {},
   "outputs": [
    {
     "name": "stdout",
     "output_type": "stream",
     "text": [
      "__loader__()= <_frozen_importlib.BuiltinImporter object at 0x0000016D4E607278>\n",
      "acos(1)= 0.0\n",
      "acosh(1)= 0.0\n",
      "asin(1)= 1.5707963267948966\n",
      "asinh(1)= 0.8813735870195429\n",
      "atan(1)= 0.7853981633974483\n",
      "atan2(1,2)= 0.4636476090008061\n",
      "atanh(???)\n",
      "ceil(1)= 1\n",
      "copysign(1,2)= 1.0\n",
      "cos(1)= 0.5403023058681398\n",
      "cosh(1)= 1.5430806348152437\n",
      "degrees(1)= 57.29577951308232\n",
      "erf(1)= 0.842700792949715\n",
      "erfc(1)= 0.157299207050285\n",
      "exp(1)= 2.718281828459045\n",
      "expm1(1)= 1.718281828459045\n",
      "fabs(1)= 1.0\n",
      "factorial(1)= 1\n",
      "floor(1)= 1\n",
      "fmod(1,2)= 1.0\n",
      "frexp(1)= (0.5, 1)\n",
      "fsum(???)\n",
      "gamma(1)= 1.0\n",
      "gcd(1,2)= 1\n",
      "hypot(1,2)= 2.23606797749979\n",
      "isclose(1,2)= False\n",
      "isfinite(1)= True\n",
      "isinf(1)= False\n",
      "isnan(1)= False\n",
      "ldexp(1,2)= 4.0\n",
      "lgamma(1)= 0.0\n",
      "log(1)= 0.0\n",
      "log1p(1)= 0.6931471805599453\n",
      "log10(1)= 0.0\n",
      "log2(1)= 0.0\n",
      "modf(1)= (0.0, 1.0)\n",
      "pow(1,2)= 1.0\n",
      "radians(1)= 0.017453292519943295\n",
      "sin(1)= 0.8414709848078965\n",
      "sinh(1)= 1.1752011936438014\n",
      "sqrt(1)= 1.0\n",
      "tan(1)= 1.5574077246549023\n",
      "tanh(1)= 0.7615941559557649\n",
      "trunc(1)= 1\n"
     ]
    }
   ],
   "source": [
    "import math # un module est aussi un objet !\n",
    "\n",
    "for name in math.__dict__: # traverse le dictionnaire de tout ce qui est défini dans le module\n",
    "    f=math.__dict__[name]\n",
    "    if callable(f):       # si l'objet a une méthode __call__, on peut l'appeler\n",
    "        try:\n",
    "            try:\n",
    "                print(name+'()=',f())\n",
    "                continue\n",
    "            except TypeError:\n",
    "                pass\n",
    "            try:\n",
    "                print(name+'(1)=',f(1))\n",
    "                continue\n",
    "            except TypeError:\n",
    "                pass\n",
    "            print(name+'(1,2)=',f(1,2))\n",
    "        except:\n",
    "            print(name+'(???)')"
   ]
  },
  {
   "cell_type": "markdown",
   "metadata": {},
   "source": [
    "<a id=\"deco\"></a>\n",
    "## Les Décorateurs\n",
    "\n",
    "\n",
    "Un décorateur est une fonction qui modifie une fonction en l'enveloppant.\n",
    "C'est un [patron de conception](https://fr.wikipedia.org/wiki/Patron_de_conception)\n",
    "\n",
    "\"Gang of four\" (GOF) Erich Gamma, Richard Helm, Ralph Johnson, John Vlissides \n",
    "“Design Patterns - Catalogue de modèles de conceptions réutilisables” \n",
    "Vuibert, 1999, 490 p "
   ]
  },
  {
   "cell_type": "markdown",
   "metadata": {},
   "source": [
    "<a id=\"debug\"></a>\n",
    "### Gestion du niveau de log pour debug"
   ]
  },
  {
   "cell_type": "code",
   "execution_count": 15,
   "metadata": {},
   "outputs": [
    {
     "name": "stderr",
     "output_type": "stream",
     "text": [
      "ERROR:root:un message d'erreur s'affiche\n",
      "WARNING:root:un message d'avertissement s'affiche\n",
      "INFO:root:un message d'info s'affiche\n"
     ]
    }
   ],
   "source": [
    "import logging # librairie standard pour loguer\n",
    "\n",
    "logger = logging.getLogger()\n",
    "logger.setLevel(logging.INFO)\n",
    "\n",
    "logging.error(\"un message d'erreur s'affiche\")\n",
    "logging.warning(\"un message d'avertissement s'affiche\")\n",
    "logging.info(\"un message d'info s'affiche\")\n",
    "logging.debug(\"mais un message de debug est inférieur au level INFO\")"
   ]
  },
  {
   "cell_type": "code",
   "execution_count": 16,
   "metadata": {},
   "outputs": [
    {
     "name": "stderr",
     "output_type": "stream",
     "text": [
      "INFO:root:fonction\n"
     ]
    }
   ],
   "source": [
    "def fonction():\n",
    "    \"\"\"cette fonction logue:\n",
    "    * son propre nom en INFO\n",
    "    * et sa doc en DEBUG\n",
    "    \"\"\"\n",
    "    logging.info(fonction.__name__)\n",
    "    def logdoc(doc):\n",
    "        for s in doc.split('\\n'):\n",
    "            logging.debug(s)\n",
    "    logdoc(fonction.__doc__)\n",
    "       \n",
    "fonction() # ne logue que le nom puisqu'on est au level INFO"
   ]
  },
  {
   "cell_type": "code",
   "execution_count": 17,
   "metadata": {},
   "outputs": [
    {
     "name": "stderr",
     "output_type": "stream",
     "text": [
      "INFO:root:Entering fonction\n",
      "DEBUG:root:fonction\n",
      "DEBUG:root:cette fonction logue:\n",
      "DEBUG:root:    * son propre nom\n",
      "DEBUG:root:    * et sa doc\n",
      "DEBUG:root:    \n",
      "INFO:root:Exiting fonction\n"
     ]
    }
   ],
   "source": [
    "from Goulib import decorators # mes décorateurs préférés\n",
    "\n",
    "@decorators.debug # passe en level DEBUG et ajoute des INFO à l'entrée et à la sortie\n",
    "def fonction():\n",
    "    \"\"\"cette fonction logue:\n",
    "    * son propre nom\n",
    "    * et sa doc\n",
    "    \"\"\"\n",
    "    logging.debug(fonction.__name__)\n",
    "    def logdoc(doc):\n",
    "        for s in doc.split('\\n'):\n",
    "            logging.debug(s)\n",
    "    logdoc(fonction.__doc__)\n",
    "    \n",
    "fonction()"
   ]
  },
  {
   "cell_type": "code",
   "execution_count": 18,
   "metadata": {},
   "outputs": [
    {
     "name": "stderr",
     "output_type": "stream",
     "text": [
      "INFO:root:Entering fonction\n",
      "DEBUG:root:fonction\n",
      "INFO:root:Exiting fonction\n"
     ]
    }
   ],
   "source": [
    "from Goulib import decorators # mes décorateurs préférés\n",
    "\n",
    "@decorators.debug # passe en level DEBUG et ajoute des INFO à l'entrée et à la sortie\n",
    "def fonction():\n",
    "    \"\"\"cette fonction logue:\n",
    "    * son propre nom\n",
    "    * et sa doc\n",
    "    \"\"\"\n",
    "    logging.debug(fonction.__name__)\n",
    "    @decorators.nodebug # revenir en INFO pour réduire la taille du log\n",
    "    def logdoc(doc):\n",
    "        for s in doc.split('\\n'):\n",
    "            logging.debug(s)\n",
    "    logdoc(fonction.__doc__)\n",
    "    \n",
    "fonction()"
   ]
  },
  {
   "cell_type": "markdown",
   "metadata": {},
   "source": [
    "<a id=\"timeit\"></a>\n",
    "### Timeit\n",
    "\n",
    "écrivons un décorateur pour chronométrer une fonction"
   ]
  },
  {
   "cell_type": "code",
   "execution_count": 19,
   "metadata": {},
   "outputs": [],
   "source": [
    "import functools # librairie standard\n",
    "\n",
    "def timeit(func):\n",
    "    @functools.wraps(func) # un décorateur qui simplifie l'écriture de décorateurs...\n",
    "    def wrapper(*args, **kwds):\n",
    "        import time\n",
    "        t=time.time()\n",
    "        f_result = func(*args, **kwds)\n",
    "        t=time.time()-t\n",
    "        params=', '.join(map(repr,args))\n",
    "        logger.info('%s(%s) took %f seconds'%(func.__name__,params,t)) \n",
    "        return f_result\n",
    "    return wrapper"
   ]
  },
  {
   "cell_type": "code",
   "execution_count": 20,
   "metadata": {},
   "outputs": [
    {
     "name": "stderr",
     "output_type": "stream",
     "text": [
      "INFO:root:tfib(0) took 0.000000 seconds\n",
      "INFO:root:tfib(5) took 0.000000 seconds\n",
      "INFO:root:tfib(10) took 0.000000 seconds\n",
      "INFO:root:tfib(15) took 0.000000 seconds\n",
      "INFO:root:tfib(20) took 0.002010 seconds\n",
      "INFO:root:tfib(25) took 0.025988 seconds\n",
      "INFO:root:tfib(30) took 0.270069 seconds\n",
      "INFO:root:tfib(35) took 2.893746 seconds\n"
     ]
    },
    {
     "data": {
      "text/plain": [
       "[1, 8, 89, 987, 10946, 121393, 1346269, 14930352]"
      ]
     },
     "execution_count": 20,
     "metadata": {},
     "output_type": "execute_result"
    }
   ],
   "source": [
    "def fib(n):\n",
    "    \"\"\"une très mauvaise implémentation de la suite de Fibonacci\"\"\"\n",
    "    if n < 2:\n",
    "      return 1\n",
    "    return fib(n-1) + fib(n-2)\n",
    "\n",
    "@timeit\n",
    "def tfib(n): return fib(n)\n",
    "\n",
    "[tfib(i) for i in range(0,40,5)]"
   ]
  },
  {
   "cell_type": "markdown",
   "metadata": {},
   "source": [
    "<a id=\"memo\"></a>\n",
    "### La [Memoïsation](https://fr.wikipedia.org/wiki/M%C3%A9mo%C3%AFsation)\n",
    "\n",
    "Patron de conception qui accélère les appels répétés à une fonction en mémorisant les résultats en fonction des paramètres"
   ]
  },
  {
   "cell_type": "code",
   "execution_count": 21,
   "metadata": {},
   "outputs": [],
   "source": [
    "def memoize(obj): # disponible dans Goulib.decorators\n",
    "    cache = obj.cache = {} # simple dict. il existe des implémentations à mémoire limitée\n",
    "    @functools.wraps(obj)\n",
    "    def memoizer(*args, **kwargs):\n",
    "        key = str(args) + str(kwargs)\n",
    "        if key not in cache:\n",
    "            cache[key] = obj(*args, **kwargs)\n",
    "        return cache[key]\n",
    "    return memoizer"
   ]
  },
  {
   "cell_type": "code",
   "execution_count": 22,
   "metadata": {},
   "outputs": [
    {
     "name": "stderr",
     "output_type": "stream",
     "text": [
      "INFO:root:tfib(0) took 0.000000 seconds\n",
      "INFO:root:tfib(5) took 0.000000 seconds\n",
      "INFO:root:tfib(10) took 0.000000 seconds\n",
      "INFO:root:tfib(15) took 0.000000 seconds\n",
      "INFO:root:tfib(20) took 0.000000 seconds\n",
      "INFO:root:tfib(25) took 0.000000 seconds\n",
      "INFO:root:tfib(30) took 0.000000 seconds\n",
      "INFO:root:tfib(35) took 0.000000 seconds\n"
     ]
    },
    {
     "data": {
      "text/plain": [
       "[1, 8, 89, 987, 10946, 121393, 1346269, 14930352]"
      ]
     },
     "execution_count": 22,
     "metadata": {},
     "output_type": "execute_result"
    }
   ],
   "source": [
    "@memoize\n",
    "def mfib(n):\n",
    "    \"\"\"la même très mauvaise implémentation de la suite de Fibonacci\"\"\"\n",
    "    if n < 2:\n",
    "      return 1\n",
    "    return mfib(n-1) + mfib(n-2)\n",
    "\n",
    "@timeit\n",
    "def tfib(n): return mfib(n)\n",
    "\n",
    "[tfib(i) for i in range(0,40,5)]"
   ]
  },
  {
   "cell_type": "code",
   "execution_count": 23,
   "metadata": {},
   "outputs": [
    {
     "name": "stderr",
     "output_type": "stream",
     "text": [
      "INFO:root:tfib(500) took 0.001996 seconds\n"
     ]
    },
    {
     "data": {
      "text/plain": [
       "225591516161936330872512695036072072046011324913758190588638866418474627738686883405015987052796968498626"
      ]
     },
     "execution_count": 23,
     "metadata": {},
     "output_type": "execute_result"
    }
   ],
   "source": [
    "tfib(500)"
   ]
  },
  {
   "cell_type": "markdown",
   "metadata": {},
   "source": [
    "<a id=\"stop\"></a>\n",
    "### Le Timeout"
   ]
  },
  {
   "cell_type": "code",
   "execution_count": 24,
   "metadata": {},
   "outputs": [
    {
     "name": "stdout",
     "output_type": "stream",
     "text": [
      "en 3 secondes, on peut calculer 34 termes\n",
      "le dernier est 5702887\n"
     ]
    }
   ],
   "source": [
    "t=3\n",
    "i,n = 0,0\n",
    "@decorators.timeout(t) # implémentation interrompant la thread\n",
    "def fibloop():\n",
    "    global i,n\n",
    "    while True: # boucle infinie sans le décorateur ...\n",
    "        i=i+1\n",
    "        n=fib(i)\n",
    "        \n",
    "try:\n",
    "    fibloop()\n",
    "except decorators.TimeoutError:\n",
    "    print('en %d secondes, on peut calculer %d termes'%(t,i))\n",
    "    print('le dernier est',n)"
   ]
  },
  {
   "cell_type": "code",
   "execution_count": 25,
   "metadata": {},
   "outputs": [
    {
     "name": "stdout",
     "output_type": "stream",
     "text": [
      "en 3 secondes, on peut calculer 200277 termes\n",
      "le dernier est 189290571775928835726115891909815891666832771957894317082961266956420751128543734720713466551115835904545994387396219123606292979516313923779287401806617846174096299013427541136950906715599361639516020989085757988814515002115259552683788451762081570479800891768752764228220803985198801423487211313152624419132106420557298999518741112616130046598387717391410235055969089486119582616322551757918597524474106436492775722921870206771061863231153359741182507972414021656239482541887005159022174000125360617735099547977351676506581832696407854523527293449934246394573246151481005448174236724382456203529040653981231505178865450916950450348961933818193378696854288622060304743149308985736351873449718181621239078174203372379538120761336895075257126660482893771009731962526376319088481092484042053702400185935547795784507173779695369846430530941592414701701346860241828779794695605619917193425116397373338620705289585749760379237586292487910916697818883568254864454037555354048785707903769975910765266633792860079325381840473555905139566921120601267452536591383045431076116770725131592407717343259004480745317161404671112874383155699349379705461521120483796201438562588266273952728068539736365319197583836875338685271012815055460930510391419185194518063183917133613122224074233232232501310799329953605486524206595400090998086305424934689607222675576876425783877610821622074695589317188926789746453649035928783117417912051368775273771581299412038896542712237297825374567883016098181114211472141697542990587331886520034227612331843857553291556175460947640845667947911712833313413049951119009672196918245893107646323876254001852288229413574923622622293805562170864064403454953286268846420812703750515703422887499603322195826307026238379502117362845468497694903681810944074964327760196981192335494625320443670740005442679595948093363350479420420825510758500378196512655152000404961433462467504812513625947189340123577905351707820500935789634628907180515187259265272023317604671937157933570097450658656659893622011876296386421328474550963739532061914291830436559130593895939248956202881820942601330859879171598728677802547634277124193463286647000498092443875695992099410733782286427648713715026372236426885379462653719837747605256923112610654843284709305718781526454737285837609787095071136356380617738767255318923474277389947887526097767004796738746324342119727166439528254065444464001154862616564996898748540092475899388203171905849627468215442184541798367892892311123943660491609593685617179924541695255421116544993621197031941589637451704629973674990353244940058335237939968690424979729749146535642482899147960610543979891433041008292994527243933703886255057482412023612944224965784429457345629776802228450567721682163583473956042208125235129783162547628308654101766590739972864546241955850961711578402449129517813448610904462180451511861695598251830971470152286496438072657662559160770692859229429614313022796938442960638096425583627035953434827092488589443717577698940107714354349041307595643823037682798337252707951836538288856448951047674537572553510410863308849671202651473983271356197941725251076451429468118667335362461782251291388005379935235576761863366926906402237781083723564633359402320479419255428810017497193054977243905391418019366878907919697804928220395699418270250350214138131717853855222457394133816740902448219963855889207365789628816612257324315947622152896025100203354459637851596196598035162202308195909908051850093652248565464159646993240355719119211352990028208468381370203847785097455247761469493205810322557113132523674421473915255493193565899879830580468884884566616480658388572628800965430276702640665689176979948507597416668591444471334670537741217590838642526336224010367766275821199467360305647081309672907531769731264076661392590014631283465092743001316750831227423252313277825917319480137299626140889572258441535119654941831079912231927651553280245722856998007184586731882324045336320257562408615563509177091413296510785990945750846142453420986956944467018353919882150713598717314870083095895676250297013707344754919950883351542378412044948955648600118094301105088072292037543706056730863461009136729866643412485933936733459307189419318042420529741663902625870146427665507679968135290332728679776452778965956843002667772245382346425361472820077105437585621639858746275785730960549631280424456394848441304485553357151973250285402349296317089155694555490060053728796706657228785958381962477803220506954223660933736397454252431885923357170540450930634338567221120202460045097731463893815211945111897202904538650002661652608062425844273534843820790034868455680323633020039613839572718609108463374703633444132196447116074353421339886931788835526540940614876709992546266258499494255452147558281173713488113727805539583266767194254053789952000967497386815909182480608697608283302954251265662200438888041881628229105351238682561493020623264440948362795564472533105177005191280048498981612889984655554676943710187825518282248150797833920777107886588245700366082007259562020301591827746808501250825204324137009226868219011365791889183988155416493257852213670795394492353989047773753557218448595336086743433714165672879571604484791324185031138316016247908717161544034104714123191318799986790988134232246062421101749299268583271978894285889498952831038933538208243078782667623246368734589320659455260421050425434579529573452708630397179852096556554835750979921130132569307558349204073595840956198273219963825232013343453232166855246708942012844978881339874067161612544402054967755946803781379982480148253657907843029774081230249792546854376591399979256994116353178172091395403089135983929577675827216401902687083915425477019165372127915123660784517539290598175339049803464685317183148963514268710271323879180643347270762046915514175915960961422738631345601471350253628880909014780248076351091028465119599086261308389683392365849505134040689317537661856663563925145218540841258608579623634913984089417739153358165779921576288451887141127299127614233805418855594473800644838757238188527350349987155568789277017383245811200916737370198702989150625113840732940048526218604036562368904910973072764911201626761373535178809555243334658364801929185039902395132931760790668033059204866509164094254248700191881330242525058949981548936946649012006960824164465304692992013310327774336486750444474029381810121120548053879321719492787556804787662129183694705638522792328335727059657964514869885777817684166447502239171187111091292849539953711669241540454484874113110522900038860272285797778024408072002263766066093098010052683984943907012891333410308837278980830527554425939795083956168658453347399180215915101317955654011627772151187932234901395717585915497728512356442694752123851597140535057570110596659735859370771124340642922913938170741720903390788036485391078668297724173983666801406006729086423917104374217497323569451018606028847151482046276403643773257609043176761088758818942433220023447961800924057749144553178683520545493342002363483190693014005340210453350267183859450851769161094959340570361087980488347459853998011048065801979169951062608829160982969080363107711673147173741285053810720659833753393301105861193485971149503616985667449028476942575779763614421517406698278983775523746709820654510998245061202425213232826073599402046950662889846880150957476787216522426402558787291038085324718177197092465936400129775986238275578488057466028929760805601863972375435523032224439206509730623968658857578764025585195533836253047646818928111397716546054490793398407211365298341607731841417478984510815343700860324591154991492242493317544362311188403552336434120388069681210851323333271148019628149675384804161530385297300845212899129690182215799001014771163116297157111094867864577685094405925040283825743713186990272450448244286785056711400778555636403815290589885370920229460663559096713679588799148808212433032673007318328215995907191517586305092619844810670561492867255136218871182174216307437072430767311471876421488004578740650374900712301710598158351150852876696459878068080879535216082410604098678330361520000013240136055410369711239763250343941051478329877690644473852556617875419065478616199546524499762596262787541681892388089954523274739195335647862636965299194987993385010830957908165219666294796474864013732757070495422642401764677746325985602971178665671098525154669428902697174943791596208953362272870508921964115806371266565097327652458380087831444376987186607441401138193367864517245669973238123264457257234202049038779327296803184799211323128122774604943007864592344532268190266665176148114151822542816183005967550078078009658566353531264669775405756581732019026051641032545722614343428600755514217588823633410806644200874572028268299552529832858828546275248347369314784275801552982884817961603337558548434306083671671128944750897688917192701938259779853552122654452989866124076565263487573942411255358574108264791059588323229732499175270575250425163619839767172404866047539782363313677950087393913589422145869417735705507070317050309921218076049128321097583253281157495198139673478478932888229006213987295843617332642459428981903431683499272549766352833448497506502527868642089851867451225506881934183712053145708624879193588719398915997343466547137259034039791029988748509387067154639880272498372727847410906626988277147466823570866068892522732109903156194093920628879489704005904877449301126305351511190663545640920205979627769150926905496025739080938956153996799392501287100175667885984200455142268220765510997381856457182161432452323255653487776818903560410417510864265224914325573529552022060004854835259990107018058169998036484558457565601044471587501446011530214670020266181549588591824296351787845979640163637274332448739757277902470029971120244609102701473652845120555552422879906783308222982222463786221419787472308096414229249228704675889964064086255903438727127141358119462746660699951276774181653151118032394745074425528826969715461152814922240025004038340562178242175977272365940993178967438459917729699158166067901121166382094162566373847492096768369374097075717605738001501318433686704518659519624905890886119739237991921764011696222955016742964393640764664255133459061434009530711454519384979557619399694509573370931030814131372059356920555759106528353037143691547608958501923473230783205077488604607812351079061515002042859140995129263313744238803898711619446098594510926798345569454528648089974140333877979425663668661280325058089141394883304127185624230324564692365191494175100164767209092415900818564535788370758821206448668116957715837330368312153274452153434558534563113907986168187059061765684746664224421738446034100005732620558207565090050209254215790273273275680760736426259514832390634868759332736295263619890728328522067931685934349998484253824679693674824627533417113563385194592101001132692409641885394277785230765159849206928702024833656762285771069305681733544064010250621441476016961940049238662858710403458794487657893484386816066623117923175788254032449471485289538341732422586115130626131851056281259940164893878568425692998151741934358094337165981631964420164316410323071704234667888670414309671672169252154157141022461462981527567070654801086526980213772004993441048808269478249015714989601515758267188660429557365576654884144552187724711666861740987576067372595649768151563802129336342274103135573709224303731965584389427070822503991172770666744688127100491779542896556629432896199054674091916744984164826726705329756289894967820258264767309781049665674142043874366075120756380626726815974419894558170529936791327446069881697192208122230795669664967041690974020595387000363952591066627537841156965282910507202497227757992170709636503867418778318095101839431620453127625858566756023450079733183129467437286153523754941565303598982218240325248284004806618172730671413532292634568328607454777934715821047999681590828702110848448460882549977627888039635836534196259693119710746960400949924262847743597842443612512032564151410527959612069777774072693179438592255812054358133551501510034637780604181993363880102819129831983670316747405672816659734688192155003265613702495961230355377575028793534533230890033860036335722304527405598983702686131933101424962655873368128874677976905538144880134786925211452070089743940237840144522119616582397438201464522164293333960100461307816306722154684523919105839680502033461740855911443068869323575220043257297520625613714927835462299752309871007473598820641280968731417829277405415939649311597120766596817027219345547792279399606733753664947721288492150888129501309619997988824824183787167346741549468717116797909505031591287604740666731626012513596112623454065485680076198953961734806236059977892195566771324134098086152442470472521144361231159190604347054259130244410987696357490022239611752471240817870382176909478903300803881565250484070316050412335232463540207692578320995866742921773573398039105698841078599865586098571244832098819115412128439079433981872260351594513448781769186690879841091835327111763679775935598519234637848632739338689060476495466310568768244502272680136878188448161778515895815712402309028225907100095197624604054667748079955836391355831536803849475127029442728908843773284448248525408612481027645669842423941363217428694785568367601719284791373997599617664130856612087119527252278920976987476626350491817759893594400658038146372168672358298316605200801222077778215017216049303771310071306570279925942767398602065255872180172044371125010524725165909995341131914484701413116629956238029604780125080969630243686647189702310291633836864227105028661798168255007690334659406574464030622568280400009822684379190042311964459914362212763188450680863424086596286487828658781317109972203231946838775317507457688385033625865242396391202441298863450583631571152983520846440316915223446642664082565560113654174022790808198518940041924040167841599366649751954568710449255103094229035635060008899051375106518360154567081389340643176671661513872532617497449519912479522962126154454677702827528851287816228030879577028012134891866034199695637696864310517204633156394207382379588859153235015408065148721928366970168999464470709494880185012048547706013507111125590950039978574251657434305463810177567131834259682020458959955176432723102902235242026723823129244997069720059947211939089640510989003185237489176577468691535131172118982962076069474367030881097774975045096089062709113703076912255644768949686494976077536447486341778827815847005752273551743018033837469674386586056002902821621194463820188176563631419350902532801006045215741632162912798187217418691572841031811119061625935141838715525391413427896069208429465314784332977413288923595544360748411416784374174765456224136438264924427671589648372294765380306858805558579485119964493422916862293902958685263003982501223510467634764589131252991946187036929931788333750325207874426582903360991061445395013596108439855242483057669106306852523898021741615718708462589259903326714702672812595731051703459393925324017395235499860413280424996195921814320231680730697793742168531775705401014969412184858887298980149595630587958469779073131938938270827978718544635600341143542499615003654931384584991958061351127155990474214430392819393286953570380601673568048660685716256362255844792921573057150550286241180814457300623092657529791870261876434824436607275106093077977344407332480496529537687014120499828764580306325424431195769849032531275894520505304320658630364300531361026560112934664721983051969780776539697096125629316344627068290915537756822825252485761435967887415572162879648481848508449092185338257275100943299435395056683008068688540711621641493356041636930319037585144822023698897667505069477114018675764118555834088995396017332047914174461107985484314394083566122178005488368905570895298861450107949001377973823731471250142408843870945481587793793908734592205078057120155011261803910346333419356970851380504778447454086232001250706807425048909153436045023935711135484292993512889467368616723074855398741943774636404612619862899427615564690190003440577014434207552443182517681496487886074977581809083498775736817989832639772409492724114801700430376170526668823813895235071150548085464221178905544033386433049326318131127489486512166588786847342728978787647886664259310187110234841447781364872335718954248267109787393486889319700198168252307492544981148941813657498106837492652169705223126730457263725560748415502230307090460476988897216620350240279522519501238445934986634322417774722801213921184481872186117055647589182111873350007707283060008338491242865390118585269248727054891912907351892068249856354127701210378124785859946324782599497914700373653813246041513835412229557028506845569138545116075758667478240443608486986555710636742949327434938388844153931240945266099372002917819731458390521810093919357227005778086815015254269232101245776119171048854506211100105126871542581944994365529408995249797440489482695858100611963180557971908940628893886777350785502814018405429409439842067524546028000223350812356530490666170753935794208716569415865866079454665126829947466861493546996672362767628103521849902031129296178617034962041518335613658323559425960073018968513181542696202319292778399047717353053189334607942603625404651582473398948593111388521944524656792025142247498495153639500835340229010176853860715490990580247717251069103179794830759206566634747100103858079465180417859343093978333007633162059877409499575214300064171601099432305561858916475095530666990406741367034112334533207672029902725615015999083679207694049716497953921434640651123377776553981076571833589908802134682230250022247293580950615337672239653074576446740065589525752259147557707533252534572815956118856788494879709995590970245522723018070465302128924947499464780071008115019500981373009963482928399752642754181078703381930766805157748554211406774471577013783323589970455069715971097631577847354579467573982447012122989457822637050055041889689996015816259818914679803767808319983351474984874726588310857822616227644521152082745492539854199955902177011737232071390181322878005865131830207972235792307678356218126001475724271045048601458402399896942955865267619827826021041770802253575976762205111090690867936937587207380170625585150661425668741119708589482529442704486223132734636240239206281742256630135956885076079255875612739181899991648130257110616224840404840908331680198941721878636548493209470578019085071484447233979961365770830909240474249118082799813590496182313103051485471780865289154492854197302204703510056404147760323195202524744778451148799280608562263750764131530110652722913359033092007618257460924132722342520290431517615481002084329089777240534723672384841357762363176924794449308522927488978339491303854588135241278495888417574123223776390385274780895450472094766589743842581552815153009535847132016780594274415242126837248908455030548762873042109565502485362054314806974345337251721121478167154344261427253141535934583628440332150916365850690270578260634852655305058644840270402459500304410543410196165361129579556809832398571776835595987393614231403527163969264288155597092720708229721700616896297112564787576375735744812985699279490271573908052453936510166944670385669870497577181258221762172462111897921813478649692912240309928199025442946187663109399610617754638827308758396824006811483220547310560396299838051718546092270357397858678039962317466068517135761116354685921728594425187177461638473016183290649955670155280239471578107619210725570469575450262242538161055713901292941656691484968031837284634039986943210699950682327394589876713951978814228650839807206625794219224413895614721420455786767685434199935009607986763665597425980788475807050149317628716690226587530054254073496854466622665940951129977546331090822910483963152117940622944420520528210891247854461919211747522318284783209142699350794012828100801922971042677547616316542421159267410212890880909522277652912757747678495115757411074349278127473778288387841194238787922114510810458627729826487566786129545769480352890191850626377919473873167136592476955640390618166418328008878464568002287032760055230214326968332401965684474338816932096247305019558343966543662565034385832981938759036183963362335248248647502700951584114460691469154611504186174314602594127715562291119948121098531802654773239232285133299541263602059209448288028974239734219058655038164833081103727429942582587785138541596495945807254046789583846069628088457212570561893160039317275560092219126606354027566049727120666878924132346383425424166575019747818446282007740556210798977714192905943501136553405562731008060903746240486285047344084881476041955349385588073950714280016637736508174627421740281643456088754835293192257298019933955076444505099492193984195581076612926984592387987980208879976044230429404887598332539394804009051334671097191333464396988884346444472864619274454229697764051949325590433023674573899314921541927809931234333433914909002630001992119650105693736848398485599099906256720079915931748877654043245059260801289803286594203758766272360120094118588607488974354833891731875386596675296201045505708642333726787495340326637273011735263194243281832401745887233585734578635878650948579418065534943889294922385869511788908671582097061479577208668963046360604913770504223596092396686404826760565479781275100427095070234985507202784315261879875647800850884921253461778878528653030257827548864586047659644035675666144273181662369105390197018118985112330937232439138549025284581123117212214259412179647922106196053272329934512931224526735418255078229191636270260455588513774320351032844102718814404995151092263264931966352009959408413046333020618113319424485590769888441010949159250850950465938935521793861072113249231170093563726201120497044667284554063234454587818764210773397770527407181639926048967669903382258063982977271776318973325592738341176851861670791240594929315051772779649370259509607825701518570534080780948210022358889269662113952046298560057906202047331982373726759536668685329455870379960163561743945318295137649030103765730005253529749146189705385465830333866815516609605823867581111663685865742020111489951788372982555486581932829400443503645082796717004466188501610301019014264710623072417815221825797089725583916838539722611400703442165921182489653365545585662567603620019417022890070676533176166237594192662703752374556935429109042455005919782131202713482987450972045145448836905477799150196413764272759778429399449521726964816092922362462593154640077077278693752459098879503371930301724347050664304708464347938172494202097546411842656504873244802754100970957088499274778340365187194117140016959429149064877161754188599293175154671328053341432033609541171772893603772195604765172112053153900824731630156637268097018364703275750054292112510260396945872277845141866881726985546653006913904985135299722834384594780609971765267816657211392646125345587373422509916880540918286828248478088970435221750245713259081802289201485560440424431847558473979108059548573750701072711915485741061000850551794070442226760825883975033968008196956012371844954921694579723506879638155128166751449253253193625095063607768041726372930670418797135934491344105940129624950755430902001864232998777024017579822896955752874348284103215799154018827797967796129884394259061500160359696130172153821668778350624489546133301923913618771443826359091895241982279227955150523702450080818597301474095645548055915922445435637819935336410395831168863874822819566897540041386124120978800201427782878895076608227281259615403071205342076084536774814655777663709051428652385869625240201412902303089206673958613029361987024871599419724663231901105508378104418582625495510489521073652850669609635669140751181215386058316516092380571532742742207619818766327939332464477704007790831985729984547103578529375164260006202821452112500132249277898090022751248788660284292551166932515418200298743107753779956764093951972707516445866825171126126687556061067424481496736015006020259862368862004662515214402364902535700269512104514945096420558586462139423713025446780973714703323443565181595367053390162115065783750456980230075908904215413641318352916657564588918972681215605568831670371663598289314370010394436015002369784534166348002511461050987567631092152210395992656210441765825877184702933508987780774976934231154695567980205663722665029873131510421218196213270557972043852479339273954060122653423379354241739635766742281111612086803450041302296946458530077626616322144195546076508559251065774025568930096826281501600993167774132711768655831375201322370149835179029122602404461415942251504453336841010664292637865367149549526010642421501527834656205503136199570940240347277624134800780821752998933742583235453012728170957018267257674540506076403617611678701934343181455807452967717533378594907834334303624806179917197122830563324670121614158302025885629513911399265231577309603568419851040048521537760288768678368802675595198143942546340583989353540672447470365225427088434531404649666322201903034161548646506840536135932698917828253958153229344275798046019096688715371392801262610967299696742280564672278465796613045222762118155529019355715258440171593493554342082413743367719042727338643788948851822005522073854104090165422313226802847229821588688585692576955094371203375458010098367458107317355996634941093195269695747682528207236329231579724230900353404428958048692335950459392664845978504805974111026350891927973110565760797564381235029376030027268623581323153698380677939038029824535241589259920220172747466743758486276462646560076832454342420048250222123091173889721984566016786270102821166375266742368164515817186905975664041954206561071374587709445207817139636513883091326083460341265657753842791165217196616998225060684716443032598644055374910872952931722892862326690843256967129212725544837588272562259106411557624697464376977912062402504763549117169113482787794344386546460702499757229382465843240995725713187642611793637044090895750228794156885564531611106916597459639781163463823482378040476477344649342082240893652694753642258694710035458950809118839788248072377537711950462892373977679540595674887791170836809427237804193038661080133912119055890846596266700234881533219071377332605658344313389971430750075720797952319757961210948415338708419587874957110001474500737361024934863393320600192808546804511580748173397485931773004776204847042239800534130732009041693344464109116228716918728355338042180790338638946837447917412047235531637411873961435347944895535891749823523887118264776892353783367568316618663437575888697139659520775250726730639863352370792450583141445912742656108776260097389868646852483960077693559787432715064854601736034970704272466189747044212803080898973003054024561055788606258699710442888766692419151813195314568868356421026244315636619304676694514189032023780560561695746730404741299003814754032827256927942360273955527288462045510362121627491510860359846587804914492910120290037545111542640264370085089530782725409103271643622597423538356128676412258900591161390215790739572075125954992970141696826146532665935133642679988458113695044035210307320699696002955572330953441274240194844429395676701765191955785217919362212525161599305256794127828254513941322999194358985464931617267454631542810394101874596998983037656651462226410991604965130862972986222543211893465226313873046397698974003935193111583631492112150145831689034749861798393729221271352316804853748463050621647157896993499234522999722071794028153934616893353189814582975879998025450147016841315005782815405371399805546593372012490993312404925176575106501575904581221085299260931505978313390029143816467676780162973184535231217228758605020443324136447510693282002633482786289112860723008996403396248382624278357238231529272591349281073270249980269397305943898139766032893336249932064664211683143534734510548107185543641609126192452239322306220890579458058047813971253444784029175337761795827281875748055270661045978426721069467956950336153308475160840471817417843287022196098166819818556092526488188240201087549049206734234383742966029994138964835945858098307268144196022894566343676720758443826175825516777928036783942339085157785592800300195739701262118118734080834531488447593064572011370686787887995462414304068731451277173665504472283912418508092443817574334011673793975407954741137137769720186838629891052145699488283386057424342072248095175029462710813416556053332413313161955418963112298351295101528524741915218629756560508883452798572112342593838283073707695895188017527926371200161708539802099545130179628441298341311726451753184074639247021102287038539832261966657610595942667285630198035917417457208979427134120624222009619176052326384519186889180762478896842939802723086679817291169105057601762013624861731950831103919868783272154184646505627644049352708447776703363736473512387394066790401043589926222909894093014996550463620012341194955969622372436250716381570887764350693507123935943478302219865303698249738279234810890392216026728756081938428821012217187733302639530057346345766733268665713757703039350863205737678553765766784609106203360319206873629315484223564072218446111777258835731511379352727147500684648241262554684749100310283635022176661269866361934326923048314063996338655757869302782872294684265046463280068160206530626278014814594978064798582816685990362419684132879926744956409984786331398688910000516987173254238050311301488461367784799268633064138247648174057863424521064153485083986005949365531822194288543423246908212748464054820757243020877990908405192192580279271883007469705975875941945113193655153351349341633556103426616125962587022763158345976680911474144485220956837724286851053278897970636713388521106642971042792895626978771481853638988614247687430752174627317441719290397936860155277260034152062140233762577356098588557389969038495615638486298434998190299151628095989226227947499666495132815136937196360905090827406009992753355605477467222643546468959183200780430846876873924362462214749348557800862705342288999799486472536568700882815674813454227164176681946203682535916876250253986629886861592695926740262965447625779464097814144669807164582191997319536004617311089672704235556134756469201178213162726805766765652246949075369049622233781674306185686507514933488396258660173325991911103939889158985648501899149626064642987661897817734244474235195583278609421107561172844665286608404656715469943234073483704971846417113294508512096616224419617180980800889448478124506971730059237813739504045022201292373227329994024413143808461935836688127414125134288239367943663918660654674749246411161627031342785248502813786027010715448316650492841035808090299568992544285514384470576979340866271751998196227195406727938659189998121063023417857980162434841066457994736497327952409197932835298698635732537425741866822494225714475190957019538050260133268256986398877015668152326567133390129410450934920325131445851605121049734549948930255673459952191501437584957544330334506314925786459279243841025457018559151973948404857265930925039086213126228912647055498079806513750156514544109230410504848327717088228528962914032720170085466634849460430803373464449515790423521979420629508488237659200316342835094120162370678491954271883426104313053918774725735771110145847035856634160955885466708071359189865487109382873265470011557590192999171703159224445151605782151808901540457794168425439548654112768384573775224737020328887591082336901669258995433246556434773654121717063564424581456982287813254005129204643803062584403849544681010465956518866301090588523621800117851505881191892278595288148670167756176807977283148223178906813888345198745163027805780094453369070337755436089506997949973773390798023387106786960582602634509146771426980800546543156240550644456339346868387019742142113303386176910322672598198515378944888318656688663755251359608683827538111491033533926912888047285656202909145003508980366499245428788192878025859203306881794326446543019780786050901933421454325830075514120364401828865887061382466236093163699349558621907134816285909216952834631909082248096507309073169337623176939277098031072192132906655907867242552400073973221391779468993220068216160645057411248364820603023558768310093365874760515418389444150464088073401238372514492205505096085349648015523962713028617812452935918852934185364214659016549243253133590752329812452646664858702434718048052745216112552555561558717519406472703494497807169865925682679003651024931259284126062967051393475682190273662943395848312982603985912250741158362178632722555896131201884565055552951441531733071242192978558323425952472555074572956881581859645808026539183304341290079512899737752080037523598602253568023717578746697804956863173057952792894942079773343987253690731232295009812567448731658780437069340656773626257150929690120351300250516897967763826652558654390850630507954000381217604209311255858988536168406922447107823723512893093825886177341897483267124196559211976005522480117839186259529717205192001448086442260822327617696433119801028528138936731113452021199129798659394437284378587173365352868307421914036729242069936155054268649086680214083932585640925169980280720868953631587311483393347726461204410945988006095169477268362477762144950833269055321800252985978426336153519561622860411436994294008911403647903123011367611054606734926761668286492271353335498495450698266112847295193300481375243825315426883420362031050220844207352151599741064960074765327070799856926135257570209074931509666685078352850167851872406275652086864406930210436138299462857650966115896535956458894703138121814517758410999845555560933292109631636700192293122741058019376484199344915241014945837566918691773578233245503343418937937219434694216264679776082187623723211487405188118877302249059929904240179962582284119238344531507916684135076828059865832278039295367438137459851020605282912489194903273900649024117641826529295739955364272668764995869849930419423225984247703666315009816747091031017063175294174515610439533693288127926998447024308952946084687112022689443559484699582378098298739301345814553222731473050771671466525478883007321610374684012015260340880555689802883530819174223719000064699700155838468955160407384312382507210626594185201872090430255293456402737434905104795355843003037233473381077681699808832350991707857513293825378742120531878293789246932450073229123421512684827172309494044879063821403395163591957989198383284625337111935291435340149323304049880553006641251387414549925514494501772257099874979342354445702866245515793673407645677478816433258420577740468650439129779676157543463867193917134811396631334457843790823580176028822025480669922740380137846346074925694323406453287371350761070012147335094789864167497444995454867291974938444245480282500036060376845472363984657469054962725307241596141178122051554739949629013277667224350793267199604902783276731310983497975046700051474645103236912027192917680933398352734383090340797897854039429555382640489960562702118776452270354837990397180173958971593869938225084866227506681681613176085888276529987614685334834681902020157568872912502731861681876027366072045391532677225738999445297256615898294480593381002276999579938824892293510358890886879858540247919162085309081235833725925589907562919989316577162681805221984268005073022795343537128419900925924277619137857777812499037721777674832261958097271978870451640531332629434870096925761283328191578990079805774752250391597452655830747811889905330929031916369534246373205804850042873529873146470416201360297187392024934096931038343186865194216659181922471756884535662821759716318576409734768818348763917015226301446861644344992269944936854098264973811500269175039836920712179754215767538945410613972679533772953188535221240662584689568313075878190415014823963247276624906137513249090283497688389650513531518435109356304031456516184306753719003475386207191513281324796308540260740330381571960992269477437128733894725783082653659110140417683903175260547535994169587072178450153570256811559182508966845792632436323212584583157373808834983653871229736451956772574969652240572584626562596012048658270948013249100218889279361441656363435695756225327056333416882500791233067157518616520852719959791919510406746947899776184307743134951510580096974275390980409021319258592854110431015360886896395652249613052403391463173367191313222326760953941187941836894866395546173853446269058119855130849557214613465654893664170799793869830973162301479399264336768892118236204791348274647016655780174197893646707889334277012980125848352624968566777392950987292378060183890827260294434394151268611461053854264394937093550887652326278774865468234204854957791029511568840421773792215922768833011847447514533899250862600712783600776837683956361799884714413234251123723785239715831354682488398601609782972760273806212156483784621731483365083241999720604182150813729720407778340380669787325449569926169102605252147612654023311487100198791368088391205517938382931305402241630936176957663356570655135788547678890161073697252267146411141710552436479471667917604202006136499391079925215811645625742941577147396052028921576776792942966260063113728755679864304912953430498722271096369323531478775081630177898034183249601498189198988684543112769991549382626423003427293140716852501936357837552036480596683627703453643406483722757603290142485051751427885435265886172474585893347304272478614820693043454519340676053447057636776188265480143790512849495436752166378288884843626498220698528899705018510832836545499035472685361995624393125791496652265271609930330903756575054897103192706592021962633399955425898272805982022258075087804777160064026442308916254310193700058594709759248374381000086844351744761709915742616242152368772213991010430909264097640949202989355291529291633600997012551020583437591237179505604225114909739974803124628094389862948548035260207398563618001472713382071350455348323137812557546526987119044862584742856511011669479526015521681826549518613103599959941190209165507030281875736594135384838170180357728812419516706721616058185641298212260299164880673654027317491827351041453037744490177326818163422656042136622505066383950856367790984623774912616554074753055916519190918381308593445901704650329062954540787659517571143057550563069367716087409690522001785430372832197515234779461238764547768487317911577103864360258566213552176927486802209313086681631504232579329902209246164182750805164704611665300628924511208373004528662897750260764884257574527390649902056861592334018530131652419279918968728416624672479138318202490519182460990818912331961960785622021293133246141845639466529571036803731431898022005625289473380085292580255809531229443544947266497875910277690216841835457492579890926445833755102598111826476816430044670542043649433643822820064382561319984296524871445330760406159982987184840399047809917841943048846841113247371951099631134412127531013104705551608976025300192293093597005916027659088968051638066590128684662266937244579136863092217769903536895882671322344695962180862147433722152492424725293564022259799013226676589082486860035434728759396432751787935458669718928143090120855982398436289856758072916734957117067617543650561119201073205778240837290186227879693822933768552268787024739537641018502608859641146161987415927021551854377867549381952318794942376888764370627089150968033709350996468464783920995706910526884890926805265639634793416849011994935363410999230804863838806707265236823301127758878665499459323615037360722679725020475047951306625159490994824015274057462316422162464207815843977078640031923496358571109921979440701826332660433384172277889065989590873207579001281106505986854277862377628722441555158635804884908318571248512245712775985104575196240950181019890376166459766646738198125825643764288582563477135748952487046764518897363603553093039470049472922499618059225081640366925438173986614398832322006501340838392599926897336977228921618569025794077021049748274670147997791052009458953325281003875346912058819914527152715420396325826011734310384139788786437655715709263601918163980894984447302346141905550091690715935327008348529373903201345715460300347119162998608624767360012024925408850693114303499810691749005641059529273271042977527524386351395362844209979288182538639517407765396052414816650285342742984952804128266950399809372413093609939203012194741371248570499215463957423397171021158224920112859097057442185132381739949819478239116429036603847242424498232188541571124132522816718424779068624123666902778776496991032743040095708658645759164648574931307378120959857120270246970443953116435912389014114935639892552007302917151565928619378924082666490861379846462284579115844790607077897739956599349506262816568242293706988101807945147761342410551180318476155087693962871675120376540062984558007646947438652818101579073322428759111346532910226762529472820529672860387554682533445917356914954839549823219748877968610280082148878706197505496989002476745685520667222551507687432519007404743415364210649381313125019539744919374622361622258635037735062497585637936446903140229682136466319658473999079748043568321428716328350302091929128177947874182349706645188088323450922285726522966799462698786661612608255823150045734273758150820426792091675205179315509099184017670987938840863304623680556424242133456301366287505975452090114066928385374678941775456076569952932300411624805695303673787498899441473514450487460032831415114463259290336874746743152229483595571210430159585063947428140032225280248701382530472874560473899522866129420286612371080649905341467582982637734006854881315954650715833802671744151759467160452739381171454118676862825987229149087096241199228912533971707572825709439401182339969912254388200721142704496686416337381904174972334572960561442412227000932988041378032906713675080816003549895250245218291355367787132211372292858850527558102380669460055773923928614847628480751011966883754492256256539641739322659452775439917243619305181758372889384143302152394124371081854804436910661647504612591114940454450168907222062628937716135831320401840890262740816604917310199359360386893714852555378718873535524245765817480087148534539091203272247264463158124768009600393736606750380312767479026376024118053728639305896356359240875439\n"
     ]
    }
   ],
   "source": [
    "import itertools\n",
    "#implémentation au niveau de l'itérateur de boucle\n",
    "# dommage, pas de @itimeout for ... \n",
    "try:\n",
    "    for i in decorators.itimeout(itertools.count(),t):\n",
    "        n=mfib(i)\n",
    "except decorators.TimeoutError:\n",
    "    print('en %d secondes, on peut calculer %d termes'%(t,i))\n",
    "    print('le dernier est',n)"
   ]
  },
  {
   "cell_type": "markdown",
   "metadata": {},
   "source": [
    "<a id=\"deco2\"></a>\n",
    "### Hey mais alors ..."
   ]
  },
  {
   "cell_type": "code",
   "execution_count": 90,
   "metadata": {},
   "outputs": [
    {
     "name": "stdout",
     "output_type": "stream",
     "text": [
      "Valeur int 2 , double = 4 statique\n"
     ]
    }
   ],
   "source": [
    "class Valeur:\n",
    "    def __init__(self,v):\n",
    "        self.v=v\n",
    "        self.__name__=type(v).__name__\n",
    "    @property\n",
    "    def double(self):\n",
    "        return self.v*2\n",
    "    \n",
    "    def type(self):\n",
    "        return self.__name__\n",
    "    \n",
    "    @classmethod\n",
    "    def classe(self): # self désigne ici la classe !\n",
    "        return self.__name__\n",
    "    \n",
    "    @staticmethod\n",
    "    def statique():\n",
    "        return 'statique'\n",
    "        \n",
    "v=Valeur(2)\n",
    "print(v.classe(), v.type(), v.v, \", double =\",v.double, v.statique())"
   ]
  },
  {
   "cell_type": "markdown",
   "metadata": {},
   "source": [
    "... Oui ! certains décorateurs sont prédéfinis et étendent le langage !"
   ]
  },
  {
   "cell_type": "markdown",
   "metadata": {},
   "source": [
    "## programmation fonctionnelle"
   ]
  },
  {
   "cell_type": "code",
   "execution_count": 26,
   "metadata": {},
   "outputs": [
    {
     "name": "stdout",
     "output_type": "stream",
     "text": [
      "1 1 2 6 24 120 720 5040 40320 362880 "
     ]
    }
   ],
   "source": [
    "for i in range(10):\n",
    "    print(f(i), end=\" \")"
   ]
  },
  {
   "cell_type": "code",
   "execution_count": 27,
   "metadata": {},
   "outputs": [
    {
     "name": "stdout",
     "output_type": "stream",
     "text": [
      "range(0, 10)\n",
      "<generator object <genexpr> at 0x0000016D37E21C50>\n",
      "[0, 1, 2, 3, 4, 5, 6, 7, 8, 9]\n"
     ]
    }
   ],
   "source": [
    "r=range(10)\n",
    "print(r)\n",
    "print(_ for _ in r)\n",
    "print([_ for _ in r])"
   ]
  },
  {
   "cell_type": "code",
   "execution_count": 28,
   "metadata": {},
   "outputs": [
    {
     "data": {
      "text/plain": [
       "[1, 1, 2, 6, 24, 120, 720, 5040, 40320, 362880]"
      ]
     },
     "execution_count": 28,
     "metadata": {},
     "output_type": "execute_result"
    }
   ],
   "source": [
    "res=list(map(f,r))\n",
    "res"
   ]
  },
  {
   "cell_type": "code",
   "execution_count": 29,
   "metadata": {},
   "outputs": [
    {
     "data": {
      "text/plain": [
       "409114"
      ]
     },
     "execution_count": 29,
     "metadata": {},
     "output_type": "execute_result"
    }
   ],
   "source": [
    "import operator\n",
    "from functools import reduce # était prédéfini en python 2.7\n",
    "reduce(operator.add,res)\n"
   ]
  }
 ],
 "metadata": {
  "kernelspec": {
   "display_name": "Python 3",
   "language": "python",
   "name": "python3"
  },
  "language_info": {
   "codemirror_mode": {
    "name": "ipython",
    "version": 3
   },
   "file_extension": ".py",
   "mimetype": "text/x-python",
   "name": "python",
   "nbconvert_exporter": "python",
   "pygments_lexer": "ipython3",
   "version": "3.6.4"
  }
 },
 "nbformat": 4,
 "nbformat_minor": 2
}
